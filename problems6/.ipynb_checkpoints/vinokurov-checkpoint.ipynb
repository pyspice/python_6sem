{
 "cells": [
  {
   "cell_type": "markdown",
   "metadata": {},
   "source": [
    "# Задание 6"
   ]
  },
  {
   "cell_type": "markdown",
   "metadata": {},
   "source": [
    "### Пример входных данных"
   ]
  },
  {
   "cell_type": "code",
   "execution_count": 2,
   "metadata": {},
   "outputs": [],
   "source": [
    "import pandas as pd\n",
    "clinton = pd.read_csv(\"clinton.csv\", encoding=\"utf-8\")\n",
    "trump = pd.read_csv(\"trump.csv\", encoding=\"utf-8\")"
   ]
  },
  {
   "cell_type": "code",
   "execution_count": 867,
   "metadata": {},
   "outputs": [
    {
     "data": {
      "text/html": [
       "<div>\n",
       "<table border=\"1\" class=\"dataframe\">\n",
       "  <thead>\n",
       "    <tr style=\"text-align: right;\">\n",
       "      <th></th>\n",
       "      <th>text</th>\n",
       "    </tr>\n",
       "  </thead>\n",
       "  <tbody>\n",
       "    <tr>\n",
       "      <th>0</th>\n",
       "      <td>Join me for a 3pm rally - tomorrow at the Mid-...</td>\n",
       "    </tr>\n",
       "    <tr>\n",
       "      <th>1</th>\n",
       "      <td>Once again, we will have a government of, by a...</td>\n",
       "    </tr>\n",
       "    <tr>\n",
       "      <th>2</th>\n",
       "      <td>On National #VoterRegistrationDay, make sure y...</td>\n",
       "    </tr>\n",
       "    <tr>\n",
       "      <th>3</th>\n",
       "      <td>Hillary Clinton's Campaign Continues To Make F...</td>\n",
       "    </tr>\n",
       "    <tr>\n",
       "      <th>4</th>\n",
       "      <td>'CNBC, Time magazine online polls say Donald T...</td>\n",
       "    </tr>\n",
       "  </tbody>\n",
       "</table>\n",
       "</div>"
      ],
      "text/plain": [
       "                                                text\n",
       "0  Join me for a 3pm rally - tomorrow at the Mid-...\n",
       "1  Once again, we will have a government of, by a...\n",
       "2  On National #VoterRegistrationDay, make sure y...\n",
       "3  Hillary Clinton's Campaign Continues To Make F...\n",
       "4  'CNBC, Time magazine online polls say Donald T..."
      ]
     },
     "execution_count": 867,
     "metadata": {},
     "output_type": "execute_result"
    }
   ],
   "source": [
    "trump.head()"
   ]
  },
  {
   "cell_type": "code",
   "execution_count": 868,
   "metadata": {},
   "outputs": [
    {
     "data": {
      "text/html": [
       "<div>\n",
       "<table border=\"1\" class=\"dataframe\">\n",
       "  <thead>\n",
       "    <tr style=\"text-align: right;\">\n",
       "      <th></th>\n",
       "      <th>text</th>\n",
       "    </tr>\n",
       "  </thead>\n",
       "  <tbody>\n",
       "    <tr>\n",
       "      <th>0</th>\n",
       "      <td>The question in this election: Who can put the...</td>\n",
       "    </tr>\n",
       "    <tr>\n",
       "      <th>1</th>\n",
       "      <td>Last night, Donald Trump said not paying taxes...</td>\n",
       "    </tr>\n",
       "    <tr>\n",
       "      <th>2</th>\n",
       "      <td>Couldn't be more proud of @HillaryClinton. Her...</td>\n",
       "    </tr>\n",
       "    <tr>\n",
       "      <th>3</th>\n",
       "      <td>If we stand together, there's nothing we can't...</td>\n",
       "    </tr>\n",
       "    <tr>\n",
       "      <th>4</th>\n",
       "      <td>Both candidates were asked about how they'd co...</td>\n",
       "    </tr>\n",
       "  </tbody>\n",
       "</table>\n",
       "</div>"
      ],
      "text/plain": [
       "                                                text\n",
       "0  The question in this election: Who can put the...\n",
       "1  Last night, Donald Trump said not paying taxes...\n",
       "2  Couldn't be more proud of @HillaryClinton. Her...\n",
       "3  If we stand together, there's nothing we can't...\n",
       "4  Both candidates were asked about how they'd co..."
      ]
     },
     "execution_count": 868,
     "metadata": {},
     "output_type": "execute_result"
    }
   ],
   "source": [
    "clinton.head()"
   ]
  },
  {
   "cell_type": "markdown",
   "metadata": {},
   "source": [
    "## Описание задания\n",
    "\n",
    "Предлагается написать генератор случайных диалогов на основе твитов Трампа (файл <i>\"trump.csv\"</i>) и Хеллори Клинтон (файл <i>\"clinton.csv\"</i>).\n",
    "\n",
    "* Каждый диалог состоит из нескольких \"ходов\" (<i>turn</i>).\n",
    "* Каждый такой <i>turn</i> представляет собой цепочку нескольких реплик разных агентов (участников диалога, их может быть больше двух).\n",
    "* Цепочка реплик представляет собой набор реплик агентов. Первое сообщение в цепочке - <i>\"исходное сообщение\"</i> на которое отвечают оставшиеся агенты (по одному сообщению за turn).\n",
    "\n",
    "Программа должна представлять отдельный пакет следующей структуры:\n",
    "<ul>\n",
    "<li>run\\_generator.py</li>\n",
    "<li>dialogsgenerator:\n",
    "<ul>\n",
    "<li>agent.py</li>\n",
    "<li>randomdialog.py</li>\n",
    "<li>\\_\\_init__.py</li>\n",
    "</ul></li>\n",
    "</ul>\n",
    "\n",
    "<b>URGENT:</b> в работе ЗАПРЕЩАЕТСЯ использовать циклы:\n",
    "<ul>\n",
    "<li>Использование 1 for (или while): max 1 балл</li>\n",
    "<li>Использование до 4 for (или while): max 0.8 баллов</li>\n",
    "<li>Использование 4+ for (или while): max 0.5 баллов</li>\n",
    "</ul>"
   ]
  },
  {
   "cell_type": "markdown",
   "metadata": {},
   "source": [
    "### Файл agent.py\n",
    "\n",
    "Описание класса агента (один класс для всех агентов, в нашем случае для Трампа и Клинтон)."
   ]
  },
  {
   "cell_type": "code",
   "execution_count": 786,
   "metadata": {},
   "outputs": [],
   "source": [
    "from collections import Generator\n",
    "\n",
    "\n",
    "class Agent(Generator):\n",
    "    \n",
    "    def __init__(self, kb, name):\n",
    "        # Инициализация\n",
    "        <your code here>\n",
    "\n",
    "    def send(self, msg):\n",
    "        # Необходимо написать свой собственный метод send для генератора\n",
    "        <your code here>\n",
    "\n",
    "    def throw(self, typ=None, val=None, tb=None):\n",
    "        # Оставляем как есть\n",
    "        super().throw(typ, val, tb)\n",
    "\n",
    "    def __str__(self):\n",
    "        # Опишем строковое представление класса\n",
    "        <your code here>\n",
    "\n",
    "    def __repr__(self):\n",
    "        return str(self)"
   ]
  },
  {
   "cell_type": "markdown",
   "metadata": {},
   "source": [
    "#### Пример использования:"
   ]
  },
  {
   "cell_type": "code",
   "execution_count": 853,
   "metadata": {},
   "outputs": [
    {
     "data": {
      "text/plain": [
       "(Agent(clinton), Agent(trump))"
      ]
     },
     "execution_count": 853,
     "metadata": {},
     "output_type": "execute_result"
    }
   ],
   "source": [
    "from dialogsgenerator import Agent\n",
    "Agent(clinton, \"clinton\"), Agent(trump, \"trump\")"
   ]
  },
  {
   "cell_type": "markdown",
   "metadata": {},
   "source": [
    "### Файл randomdialog.py\n",
    "\n",
    "Описание класса, генерирующего случайный диалог."
   ]
  },
  {
   "cell_type": "code",
   "execution_count": 830,
   "metadata": {},
   "outputs": [],
   "source": [
    "class RandomDialog(object):\n",
    "    \n",
    "    def __init__(self, agents, max_len=5):\n",
    "        # Инициализация\n",
    "        <your code here>\n",
    "\n",
    "    def generate(self):\n",
    "        \"\"\"\n",
    "        Генерирует случайный диалог состоящий из 1-max_len цепочек.\n",
    "        При генерации вызывает функцию turn.\n",
    "        Возвращаемый объект является генератором.\n",
    "        \"\"\"\n",
    "        <your code here>\n",
    "\n",
    "    def turn(self):\n",
    "        \"\"\"\n",
    "        Генерирует одну случайную цепочку следующим образом: выбирается случайный агент.\n",
    "        Он \"говорит\" случайное сообщение (msg) из своей Agent.kb (используйте next или send(None)).\n",
    "        (правила того, как выбирать никак не регулируются, вы можете выбирать случайный твит из Agent.kb никак не учитывая\n",
    "        переданное msg).\n",
    "        Это сообщение передается с помощью send (помним, что агент - это объект-генератор).\n",
    "        Далее получаем ответ от всех агентов и возвращаем (генерируем) их (включая исходное сообщение).\n",
    "        Возвращаемый объект является генератором.\n",
    "        \"\"\"\n",
    "        <your code here>\n",
    "\n",
    "    def eval(self, dialog=None):\n",
    "        \"\"\"\n",
    "        Превращает генератор случайного далога (который возвращается в self.generate())\n",
    "        в список списков (пример использования далее).\n",
    "        Возвращаемый объект является списком.\n",
    "        \"\"\"\n",
    "        if dialog is None:\n",
    "            dialog = self.generate()\n",
    "        <your code here>\n",
    "\n",
    "    def write(self, dialog=None, target=sys.stdout):\n",
    "        \"\"\"\n",
    "        Записывает результат self.eval() в соответствующий поток.\n",
    "        \"\"\"\n",
    "        if dialog is None:\n",
    "            dialog = self.eval()\n",
    "        <your code here>\n",
    "\n",
    "    pass\n"
   ]
  },
  {
   "cell_type": "markdown",
   "metadata": {},
   "source": [
    "#### Пример использования:"
   ]
  },
  {
   "cell_type": "code",
   "execution_count": 854,
   "metadata": {
    "collapsed": true
   },
   "outputs": [],
   "source": [
    "from dialogsgenerator import RandomDialog\n",
    "rd = RandomDialog([Agent(clinton, \"clinton\"), Agent(trump, \"trump\")], max_len=2)"
   ]
  },
  {
   "cell_type": "code",
   "execution_count": 855,
   "metadata": {},
   "outputs": [
    {
     "data": {
      "text/plain": [
       "<generator object RandomDialog.generate at 0x0000007DC85901A8>"
      ]
     },
     "execution_count": 855,
     "metadata": {},
     "output_type": "execute_result"
    }
   ],
   "source": [
    "generated = rd.generate()\n",
    "generated"
   ]
  },
  {
   "cell_type": "code",
   "execution_count": 856,
   "metadata": {},
   "outputs": [
    {
     "data": {
      "text/plain": [
       "[[\"clinton: Let's make it easier for young people to start businesses and fulfill their dreams. https://t.co/cJzNCnaahh https://t.co/vZHW9VZKDT\",\n",
       "  'trump: My list of potential U.S. Supreme Court Justices was very well recieved. During the next number of weeks I may be adding to the list!'],\n",
       " [\"trump: DON'T LET HILLARY CLINTON DO IT AGAIN!\\r #TrumpPence16\\r https://t.co/1mGkPNZPKF\",\n",
       "  'clinton: With the first local transmission of Zika in FL, it’s even more critical for Republicans to stop blocking action: https://t.co/KjmWMDOgDl']]"
      ]
     },
     "execution_count": 856,
     "metadata": {},
     "output_type": "execute_result"
    }
   ],
   "source": [
    "evaled = rd.eval(generated)\n",
    "evaled"
   ]
  },
  {
   "cell_type": "code",
   "execution_count": 857,
   "metadata": {},
   "outputs": [
    {
     "name": "stdout",
     "output_type": "stream",
     "text": [
      "\n",
      "turn 0:\n",
      "\tclinton: Let's make it easier for young people to start businesses and fulfill their dreams. https://t.co/cJzNCnaahh https://t.co/vZHW9VZKDT\n",
      "\ttrump: My list of potential U.S. Supreme Court Justices was very well recieved. During the next number of weeks I may be adding to the list!\n",
      "turn 1:\n",
      "\ttrump: DON'T LET HILLARY CLINTON DO IT AGAIN!\r",
      " #TrumpPence16\r",
      " https://t.co/1mGkPNZPKF\n",
      "\tclinton: With the first local transmission of Zika in FL, it’s even more critical for Republicans to stop blocking action: https://t.co/KjmWMDOgDl"
     ]
    }
   ],
   "source": [
    "rd.write(evaled)"
   ]
  },
  {
   "cell_type": "markdown",
   "metadata": {},
   "source": [
    "### Файл run_generator.py\n",
    "\n",
    "Содержит функции для генерации и записи нескольких диалогов. Файл должен быть написан так, чтобы его можно было запускать через командную строку:\n",
    "<img src=\"cmd.png\">\n",
    "Описание аргументов представлено на рисунке:\n",
    "<img src=\"cmd_help.png\">\n",
    "Для разбора аргументов ипользуйте <a href=\"https://docs.python.org/3/howto/argparse.html\">модуль argparse</a>. Все представленные на рисунке аргументы должны быть обработаны (кроме help, он обрабатывается автоматически модулем argparse)."
   ]
  },
  {
   "cell_type": "code",
   "execution_count": 846,
   "metadata": {
    "collapsed": true
   },
   "outputs": [],
   "source": [
    "def generate(rd, count_dialogs=5):\n",
    "    \"\"\"\n",
    "    Генерирует count_dialogs диалогов с помощью rd.generate().\n",
    "    Возвращаемый объект является генератором.\n",
    "    \"\"\"\n",
    "    <your code here>\n",
    "\n",
    "def write(dialogs, target):\n",
    "    \"\"\"\n",
    "    Записывает сгенерированные диалоги dialogs (это объект-генератор) в поток target.\n",
    "    \"\"\"\n",
    "    <your code here>\n",
    "\n",
    "\n",
    "if __name__ == \"__main__\":\n",
    "    <your code here>\n"
   ]
  },
  {
   "cell_type": "markdown",
   "metadata": {},
   "source": [
    "#### Пример использования функций из файла:"
   ]
  },
  {
   "cell_type": "code",
   "execution_count": 869,
   "metadata": {},
   "outputs": [],
   "source": [
    "import sys\n",
    "from run_generator import generate, write"
   ]
  },
  {
   "cell_type": "code",
   "execution_count": 870,
   "metadata": {},
   "outputs": [
    {
     "data": {
      "text/plain": [
       "<map at 0x7dc8572a20>"
      ]
     },
     "execution_count": 870,
     "metadata": {},
     "output_type": "execute_result"
    }
   ],
   "source": [
    "dialogs = generate(rd, 2)\n",
    "dialogs"
   ]
  },
  {
   "cell_type": "code",
   "execution_count": 871,
   "metadata": {},
   "outputs": [
    {
     "name": "stdout",
     "output_type": "stream",
     "text": [
      "________________________________________Dialog 0________________________________________\n",
      "turn 0:\n",
      "\ttrump: Crooked Hillary wants to take your 2nd Amendment rights away. Will guns be taken from her heavily armed Secret Service detail? Maybe not!\n",
      "\tclinton: \"Bill, that conversation we started in the law library 45 years ago, it is still going strong.” —Hillary\n",
      "turn 1:\n",
      "\tclinton: Our teachers deserve more than just a pat on the back. They deserve a raise. #TeacherAppreciationDay https://t.co/0sgmUFg6mX\n",
      "\ttrump: I visited our Trump Tower campaign headquarters last night, after returning from Ohio and Arizona, and it was packed with great pros - WIN!\n",
      "________________________________________Dialog 1________________________________________\n",
      "turn 0:\n",
      "\tclinton: \"He won me over with that Mexican rapist speech.\" —Ann Coulter on Donald Trump https://t.co/GTNOhKYMA2\n",
      "\ttrump: Thank you Pittsburgh, Pennsylvania!\r",
      " #MakeAmericaGreatAgain #Trump2016 https://t.co/7WHS3vbXSw\n",
      "turn 1:\n",
      "\ttrump: .@FreeJesseJames- Just read your complete statement. You are an amazing guy &amp; I really appreciate your words &amp; support. I will see you soon!\n",
      "\tclinton: We can't defeat ISIS with bigotry and bluster. https://t.co/qyQ2AR9AkH\n"
     ]
    }
   ],
   "source": [
    "write(dialogs, sys.stdout)"
   ]
  }
 ],
 "metadata": {
  "kernelspec": {
   "display_name": "Python 3",
   "language": "python",
   "name": "python3"
  },
  "language_info": {
   "codemirror_mode": {
    "name": "ipython",
    "version": 3
   },
   "file_extension": ".py",
   "mimetype": "text/x-python",
   "name": "python",
   "nbconvert_exporter": "python",
   "pygments_lexer": "ipython3",
   "version": "3.6.5"
  }
 },
 "nbformat": 4,
 "nbformat_minor": 2
}
