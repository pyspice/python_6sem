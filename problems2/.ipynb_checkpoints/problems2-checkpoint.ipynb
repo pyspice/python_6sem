{
 "cells": [
  {
   "cell_type": "markdown",
   "metadata": {},
   "source": [
    "## 1. Определение языка записи.\n",
    "\n",
    "Даны три файла с отрывком из романа Дж. Р. Р. Толкиена \"Властелин колец\". Про них известно, что слова каждого конкретного текста (за исключением, быть может, небольшого числа шумов) принадлежат некоторому ОДНОМУ языку. Необходимо определить языки каждого текста, затем объединить их в один датасет и написать классификатор, определяющий по строке язык текста, из которого она была взята.\n",
    "\n",
    "Предварительно было проведено исследование по определению языка каждого символа из текста. Для этого символы были разбиты на характерные группы в соответствии с базой https://unicode-table.com/. При исследовании таблица символов ниже выводилась полностью, вывод убран для удобства чтения."
   ]
  },
  {
   "cell_type": "code",
   "execution_count": 34,
   "metadata": {},
   "outputs": [
    {
     "name": "stdout",
     "output_type": "stream",
     "text": [
      "[('\\x00', '0x0'), ('\\n', '0xa'), (' ', '0x20'), ('!', '0x21'), ('\"', '0x22'), ('#', '0x23'), (\"'\", '0x27'), ('(', '0x28'), (')', '0x29'), (',', '0x2c'), ('-', '0x2d'), ('.', '0x2e'), ('0', '0x30'), ('1', '0x31'), ('2', '0x32'), ('3', '0x33'), ('4', '0x34'), ('5', '0x35'), ('6', '0x36'), ('7', '0x37')]\n",
      "[('默', '0x9ed8'), ('黙', '0x9ed9'), ('點', '0x9ede'), ('黨', '0x9ee8'), ('黯', '0x9eef'), ('鼓', '0x9f13'), ('鼻', '0x9f3b'), ('鼾', '0x9f3e'), ('齒', '0x9f52'), ('齡', '0x9f61'), ('齢', '0x9f62'), ('龍', '0x9f8d'), ('龐', '0x9f90'), ('！', '0xff01'), ('＃', '0xff03'), ('（', '0xff08'), ('）', '0xff09'), ('，', '0xff0c'), ('：', '0xff1a'), ('？', '0xff1f')]\n"
     ]
    }
   ],
   "source": [
    "lts = set()\n",
    "texts = []\n",
    "for i in range(2, 5):\n",
    "    name = str(i) + '.tmp'\n",
    "    with open(name, encoding='utf-8') as fin:\n",
    "        texts.append(fin.readlines())\n",
    "        lts.update({j for i in texts[-1] for j in i})\n",
    "        \n",
    "lts = [(i, hex(ord(i))) for i in sorted(list(lts))]\n",
    "print(lts[: 20])\n",
    "print(lts[-20: ])\n",
    "# for i in range(0, len(lts), 6):\n",
    "#     print(lts[i: i + 6])"
   ]
  },
  {
   "cell_type": "markdown",
   "metadata": {},
   "source": [
    "### Характерные группы символов:\n",
    "    1. Управляющие символы(0x0000-0x001F). В нашем случае их всего два: нуль-символ и символ перевода строки. Они не влияют на классификацию, поэтому их можно смело пропускать.\n",
    "    2. Основная латинница(0x0020—0x007F). Содержит также графические знаки. В нашем датасете соответствует лишь английскому языку, однако арабские цифры (в силу присутствия их во всех текстах) мы будем относить ко всем трем языкам. Если в английском тексте встретился хотя бы один иероглиф, считаем, что язык записи не английский.\n",
    "    3. Знаки пунктуации(0x2000—0x206F). Будем относить к английскому языку, так как для языков восточной группы существуют свои знаки препинания.\n",
    "    4. Символы и пунктуация ККЯ(0x3000—0x303F). Используются в китайском и японском языках.\n",
    "    5. Катакана и хирагана(0x3040—0x30FF). Используются в японском языке.\n",
    "    6. Унифицированные иероглифы ККЯ(0x4E00—0x9FFF). Используются в основном в китайском языке (однако, если в тексте встречаются наряду с катаканой и хираганой, это японский язык).\n",
    "    7. Полуширинные и полноширинные формы(0xFF00—0xFFEF). Используются в китайском и японском языках.\n",
    "\n",
    "Таким образом, язык очередной записи определяется по utf-кодам символов, в него входящим: достаточно посмотреть, символов какой характерной группы в ней [записи] больше.\n",
    "\n",
    "Как видно, присутствуют символы лишь из китайского, японского и английского языков. Посмотрим на тексты внимательнее:"
   ]
  },
  {
   "cell_type": "code",
   "execution_count": 35,
   "metadata": {},
   "outputs": [
    {
     "name": "stdout",
     "output_type": "stream",
     "text": [
      "Bag End先生的Bilbo Baggins先生宣布，他不久將以特別的輝煌的聚會慶祝他的第二十一歲\n",
      "\u0000\u0000\u0000\u0000\u0000\u0000\u0000\u0000\u0000\u0000\u0000\u0000\u0000\u0000\u0000\u0000\u0000\u0000\u0000\u0000\u0000\u0000\u0000\u0000\u0000\u0000\u0000\u0000\u0000\u0000\u0000\u0000\u0000\u0000\u0000\u0000\u0000\u0000\u0000\u0000生日，霍比頓人的話語和興奮也很多。 ＃＃＃＃Bilbo非常富有，非常奇特，自從他的驚人的失踪和意想不\n",
      "\u0000\u0000\u0000\u0000\u0000\u0000\u0000\u0000\u0000\u0000\u0000\u0000到的回歸以來，一直是希雷六十年的奇蹟。他從旅行中帶回來的財富現在已經成為一個地方的傳說，無論老民間說\n",
      "什麼，人們普遍相信，Bag End山充滿了寶藏的隧道。如果這還不夠名聲，那麼他也有長期的活力來驚嘆。\n",
      "\u0000\u0000\u0000\u0000\u0000\u0000\u0000\u0000\u0000\u0000\u0000\u0000\u0000\u0000時間穿了，但似乎對Baggins先生影響不大。在九十年代，他和五十歲時一樣。在九十九歲的時候，他們開\n",
      "\u0000\u0000\u0000\u0000\u0000\u0000\u0000\u0000\u0000\u0000\u0000\u0000\u0000\u0000始把他稱得上是保存完好的，但是不會改變的。有一些人搖頭，認為這太好了，任何人都應該擁有（顯然）永久的\n",
      "青年以及（著名地）無窮無盡的財富似乎是不公平的。他們說：“這將需要支付。” “這不是自然的，麻煩會來\n",
      "\u0000\u0000的！”＃＃但是到目前為止，麻煩沒有到來。正如巴金斯先生慷慨解囊，大多數人都願意赦免他的遺體和幸運。他\n",
      "仍然與親屬（除了當然是薩克維爾 - 巴金斯）的訪問條件，他在貧窮和不重要的家庭的愛好中有許多忠實的崇\n",
      "\u0000\u0000\u0000\u0000\u0000\u0000拜者。但他沒有親密的朋友，直到他的一些年輕的表親才開始長大。 ＃＃這些最老的，Bilbo的最愛，是年\n",
      "~~~~~~~~~~~~~~~~~~~~~~~~~~~~\n",
      "\u0000\u0000\u0000\u0000變得有霧的時候，我遇到了，然後爬上了庫存，看看你是否在任何溝渠裡摔倒了。但是，如果我知道你來了哪一種\n",
      "方式，我會很幸福。你在哪裡找到他們，馬格先生？在你的鴨池裡？“＃＃”不，我抓住了，“農夫說，”幾乎把\n",
      "我的狗放在了但他們會告訴你所有的故事，我毫不懷疑。現在，如果你原諒我，弗里多先生和弗洛多先生，我最好\n",
      "轉回家。馬格太太會很擔心，晚上變得越來越厚了。“＃他把車子背上車道，把車轉過來。 “嗯，晚安給你們，\n",
      "\u0000\u0000”他說。 “這是一個奇怪的一天，沒有錯誤。但一切順利結束;儘管也許我們不應該說，直到我們達到自己的門\n",
      "\u0000\u0000\u0000\u0000。我不會否認現在我會很高興，“他點了燈籠起床。突然，他從座位下面製作了一個大籃子。 “我幾乎忘記了，\n",
      "\u0000\u0000”他說。 '太太。 Mag got。for。。。。。。。。。。。。。。。。。。。。。。。。。。。。。\n",
      "\u0000\u0000\u0000\u0000\u0000\u0000\u0000\u0000\u0000\u0000\u0000\u0000\u0000\u0000\u0000\u0000\u0000\u0000\u0000\u0000\u0000\u0000\u0000\u0000\u0000\u0000。。。。 ＃＃他們看著燈籠周圍閃爍著蒼白的光環，隨著它們逐漸變成有霧的夜晚。弗羅多突然笑了起來：從他\n",
      "\u0000\u0000所藏的籠子裡，蘑菇的味道正在上升。\n",
      "\u0000\u0000\u0000\u0000\u0000\u0000\u0000\u0000\u0000\u0000\u0000\u0000\u0000\u0000\u0000\u0000\u0000\u0000\u0000\u0000\u0000\u0000\u0000\u0000\u0000\u0000\u0000\u0000\u0000\u0000\u0000\u0000\u0000\u0000\u0000\u0000\u0000\u0000\u0000\u0000\u0000\u0000\u0000\u0000\u0000\u0000\u0000\u0000\u0000\u0000\u0000\u0000\u0000\u0000\u0000\u0000\u0000\u0000\u0000\u0000\u0000\u0000\u0000\u0000\u0000\u0000\u0000\u0000\u0000\u0000\u0000\u0000\u0000\u0000\u0000\u0000\u0000\u0000\u0000\u0000\u0000\u0000\u0000\u0000\u0000\u0000\u0000\u0000\u0000\u0000\u0000\u0000\u0000\u0000\u0000\u0000\u0000\u0000\u0000\n",
      "############################\n",
      "\n",
      "When Mr. Bilbo Baggins of Bag End announced that h\n",
      "\u0000\u0000\u0000\u0000\u0000\u0000\u0000\u0000\u0000\u0000\u0000\u0000e would shortly be celebrating his eleventy-first \n",
      "\u0000\u0000\u0000\u0000\u0000\u0000\u0000\u0000\u0000\u0000\u0000\u0000birthday with a party of special magnificence, the\n",
      "\u0000\u0000\u0000\u0000\u0000\u0000\u0000\u0000\u0000\u0000\u0000\u0000re was much talk and excitement in Hobbiton.\n",
      " \n",
      " \n",
      " \n",
      "\u0000\u0000\u0000\u0000\u0000\u0000\u0000\u0000\u0000\u0000\u0000\u0000\n",
      " Bilbo was very rich and very peculiar, and had b\n",
      "\u0000\u0000\u0000\u0000\u0000\u0000\u0000\u0000\u0000\u0000\u0000\u0000een the wonder of the Shire for sixty years, ever \n",
      "~~~~~~~~~~~~~~~~~~~~~~~~~~~~\n",
      "\u0000\u0000\u0000\u0000\u0000\u0000\u0000\u0000 he said. ‘Mrs. Maggot put this up for Mr. Baggins\n",
      "\u0000\u0000\u0000\u0000\u0000\u0000\u0000\u0000\u0000\u0000, with her compliments.’ He handed it down and mov\n",
      "\u0000\u0000\u0000\u0000\u0000\u0000\u0000\u0000\u0000\u0000ed off, followed by a chorus of thanks and good-ni\n",
      "\u0000\u0000\u0000\u0000\u0000\u0000\u0000\u0000\u0000\u0000\u0000\u0000ghts.\n",
      " \n",
      " They watched the pale rings of light roun\n",
      "\u0000\u0000\u0000\u0000\u0000\u0000\u0000\u0000\u0000\u0000\u0000\u0000d his lanterns as they dwindled into the foggy nig\n",
      "\u0000\u0000\u0000\u0000\u0000\u0000\u0000\u0000\u0000\u0000\u0000\u0000ht. Suddenly Frodo laughed: from the covered baske\n",
      "\u0000\u0000\u0000\u0000\u0000\u0000\u0000\u0000\u0000\u0000\u0000\u0000t he held, the scent of mushrooms was rising.\n",
      "\u0000\u0000\u0000\u0000\u0000\u0000\u0000\u0000\u0000\u0000\u0000\u0000\u0000\u0000\u0000\u0000\u0000\n",
      "############################\n",
      "\n",
      "Bag EndのBilbo Baggins氏は、18歳の誕生日を特別な壮大なパーティでまもなく祝うと\n",
      "\u0000\u0000\u0000\u0000\u0000\u0000\u0000\u0000\u0000\u0000\u0000\u0000\u0000\u0000\u0000\u0000\u0000\u0000\u0000\u0000\u0000\u0000\u0000\u0000\u0000\u0000\u0000\u0000\u0000\u0000\u0000\u0000\u0000\u0000\u0000\u0000\u0000\u0000\u0000\u0000\u0000\u0000\u0000\u0000発表したとき、ホビットンには多くの話と興奮がありました。ビルボは非常に豊かで非常に独特で、彼の顕著な\n",
      "失踪と予期せぬ復帰以来、60年にわたりシャイアの驚異であった。彼が旅行から持ち帰った富は今や地元の伝\n",
      "\u0000\u0000\u0000\u0000説になっていて、昔の人々が言うように、バッグエンドの丘は宝物で詰まったトンネルでいっぱいだったと一般\n",
      "に信じられていました。それが名声のために十分でないならば、彼の長年の活力も驚くべきものでした。時間は\n",
      "かかりましたが、バギンズ氏にはほとんど影響がないようでした。 90歳で彼は50歳とほとんど同じだった\n",
      "\u0000\u0000\u0000\u0000\u0000\u0000\u0000\u0000\u0000\u0000。 99歳で彼は彼をよく保存されていると呼ぶようになったが、変わらずに近くになっただろう。頭を振って\n",
      "\u0000\u0000\u0000\u0000\u0000\u0000、これがあまりにも良いことだと思った人もいました。誰も（明らかに）永遠の青年と（評判が良い）無尽蔵の\n",
      "富を所有すべきであるということは不公平に思えました。 \"それは支払われなければならないだろう\"と彼ら\n",
      "\u0000\u0000\u0000\u0000\u0000\u0000は言った。 'それは自然ではなく、問題はそれから来る！'＃＃しかし、これまでのトラブルは来ていません\n",
      "~~~~~~~~~~~~~~~~~~~~~~~~~~~~\n",
      "\u0000\u0000\u0000\u0000\u0000\u0000しかし、彼らはあなたにすべての物語を教えてくれるだろう、私は間違いない。今、あなたが私を許してくれる\n",
      "ならば、メリーさんとフロドーさん、私は家に帰るのが一番です。マゴット夫人は、夜が厚くなるにつれて心配\n",
      "するでしょう」彼はワゴンを車線に戻し、それを回した。 「まあ、皆さんおはようございます。」と彼は言い\n",
      "\u0000\u0000ました。 「奇妙な日だったし、間違いもなかった。しかし、すべてがうまく終わります。おそらく、私たちが\n",
      "\u0000\u0000自分のドアに達するまでそれを言うべきではありません。私は今私が喜んでいることを否定しないだろう」彼は\n",
      "彼のランタンを照らして立ち上がった。突然彼は座席の下から大きなバスケットを作りました。 「私はほとん\n",
      "\u0000\u0000ど忘れていた」と彼は言った。 '夫人。マゴットはバギンズさんに褒め言葉を書いた。「彼はそれを手渡して\n",
      "\u0000\u0000\u0000\u0000動いた。それに続いて感謝とおやすみの合唱が続いた。彼らは霧の夜に枯れていくと、彼らは光の薄い輪を見ま\n",
      "した。突然フロドは笑った：彼が保持カバーバスケットから、きのこの香りが上昇していた。\n",
      "\u0000\u0000\u0000\u0000\u0000\u0000\u0000\u0000\u0000\u0000\u0000\u0000\u0000\u0000\u0000\u0000\u0000\u0000\u0000\u0000\u0000\u0000\u0000\u0000\n",
      "############################\n",
      "\n"
     ]
    }
   ],
   "source": [
    "for text in texts:\n",
    "    for record in text[: 10]:\n",
    "        print(record, end='')\n",
    "    print('~~~~~~~~~~~~~~~~~~~~~~~~~~~~')\n",
    "    for record in text[-10: ]:\n",
    "        print(record, end='')\n",
    "    print('\\n############################\\n')"
   ]
  },
  {
   "cell_type": "markdown",
   "metadata": {},
   "source": [
    "Как видно, первый текст в основном состоит из сложных и массивных \"квадратных\" символов. Эти признаки отличают китайскую письменность. Второй текст написан, очевидно, на английском языке (целиком, поэтому при наличии иероглифов запись точно не принадлежит английскому языку). В третьем тексте преобладают простые изящные символы катаканы и хираганы(слегка разбавленные кандзи) - явный признак японского языка.\n",
    "\n",
    "Напрашивается тривиальный (и, тем не менее, точный) алгоритм решения задачи: переберем все записи из датасета, для каждой посчитаем, сколько символов из неё принадлежит каждому из трех языков, и определим язык записи как argmax последнего. Служебные символы и арабские цифры присутствуют во всех текстах, а потому не влияют на результат."
   ]
  },
  {
   "cell_type": "code",
   "execution_count": 36,
   "metadata": {
    "collapsed": true
   },
   "outputs": [],
   "source": [
    "def predict(text):        \n",
    "    for record in text:\n",
    "        langs = [[0, i] for i in range(3)]\n",
    "        for i in record:\n",
    "            code = ord(i)\n",
    "            if code < 0x0020 or i.isdigit():\n",
    "                continue\n",
    "                \n",
    "            if 0x0020 <= code <= 0x007F or 0x2000 <= code <= 0x206F:\n",
    "                langs[1][0] += 1\n",
    "            elif 0x3040 <= code <= 0x30FF:\n",
    "                langs[2][0] += 1\n",
    "            elif 0x4E00 <= code <= 0x9FFF:\n",
    "                langs[0][0] += 1\n",
    "            else:\n",
    "                langs[0][0] += 1\n",
    "                langs[2][0] += 1\n",
    "            \n",
    "        if langs[0][0] or langs[2][0]:\n",
    "            langs[1][0] = 0\n",
    "            \n",
    "        langs.sort()\n",
    "        yield langs[2][1]"
   ]
  },
  {
   "cell_type": "code",
   "execution_count": 37,
   "metadata": {
    "collapsed": true
   },
   "outputs": [],
   "source": [
    "# preparing data\n",
    "\n",
    "text, labels = [], []\n",
    "for i in range(3):\n",
    "    text.extend(texts[i])\n",
    "    labels.extend([i] * len(texts[i]))"
   ]
  },
  {
   "cell_type": "code",
   "execution_count": 38,
   "metadata": {},
   "outputs": [
    {
     "name": "stdout",
     "output_type": "stream",
     "text": [
      "Accuracy: 0.991494388659\n"
     ]
    }
   ],
   "source": [
    "# full accuracy\n",
    "from sklearn.metrics import accuracy_score\n",
    "\n",
    "def accuracy(labels, pred):\n",
    "    s = 0\n",
    "    for i in range(len(labels)):\n",
    "        if labels[i] == pred[i]:\n",
    "            s += 1\n",
    "    return s / len(labels)\n",
    "\n",
    "pred = list(predict(text))\n",
    "print('Accuracy:', accuracy_score(labels, pred))"
   ]
  },
  {
   "cell_type": "code",
   "execution_count": 39,
   "metadata": {},
   "outputs": [
    {
     "name": "stderr",
     "output_type": "stream",
     "text": [
      "100%|██████████████████████████████████████████████████████████████████████████████████| 10/10 [00:00<00:00, 29.93it/s]\n"
     ]
    }
   ],
   "source": [
    "# KFold\n",
    "import numpy as np\n",
    "from sklearn.cross_validation import KFold\n",
    "from tqdm import tqdm\n",
    "\n",
    "text = np.array(text)\n",
    "labels = np.array(labels)\n",
    "\n",
    "splits = KFold(len(text), n_folds=10, shuffle=True)\n",
    "accs = []\n",
    "for train_index, test_index in tqdm(list(splits)):\n",
    "    x_test, y_test = text[test_index], labels[test_index]\n",
    "    \n",
    "    pred = np.array(list(predict(x_test)))\n",
    "    accs.append(accuracy_score(y_test, pred))"
   ]
  },
  {
   "cell_type": "code",
   "execution_count": 40,
   "metadata": {},
   "outputs": [
    {
     "name": "stdout",
     "output_type": "stream",
     "text": [
      "[0.99291617473435656, 0.98701298701298701, 0.99645808736717822, 0.98937426210153478, 0.99173553719008267, 0.99527186761229314, 0.98699763593380618, 0.99054373522458627, 0.99290780141843971, 0.99172576832151305]\n"
     ]
    }
   ],
   "source": [
    "print(accs)"
   ]
  },
  {
   "cell_type": "markdown",
   "metadata": {},
   "source": [
    "## 2. Кодирование текста\n",
    "\n",
    "Дана строка, состоящая из двухбайтных символов. Необходимо написать алгоритм кодирования и декодирования строки с помощью строки 'ABCDEFGHIJKLMNOPQRSTUVWXYZabcdefghijklmnopqrstuvwxyz0123456789+/' путем выделения шестибитных индексов из двоичных кодов исходных символов (подробнее - в problems2.pdf). "
   ]
  },
  {
   "cell_type": "code",
   "execution_count": 41,
   "metadata": {
    "collapsed": true
   },
   "outputs": [],
   "source": [
    "import string\n",
    "import base64\n",
    "\n",
    "base = string.ascii_uppercase + string.ascii_lowercase + string.digits + '+/'\n",
    "idx = {base[i]: i for i in range(len(base))}"
   ]
  },
  {
   "cell_type": "code",
   "execution_count": 77,
   "metadata": {
    "collapsed": true
   },
   "outputs": [],
   "source": [
    "def encode(text):\n",
    "    if text == '':\n",
    "        return ''\n",
    "    \n",
    "    if len(text) < 3:\n",
    "        offset = len(text)\n",
    "        code = []\n",
    "        \n",
    "        block = ord(text[0])\n",
    "        if offset > 1:\n",
    "            block <<= 16\n",
    "            block += ord(text[1])\n",
    "        \n",
    "        while block:\n",
    "            code.append(base[block & ((1 << 6) - 1)])\n",
    "            block >>= 6\n",
    "            \n",
    "        code = [chr(offset + 2)] + list(reversed(code))\n",
    "        return ''.join(code)\n",
    "    \n",
    "    offset = len(text) % 3\n",
    "    code = [chr(offset)]\n",
    "    if offset:\n",
    "        text += '\\x00' * (3 - offset)\n",
    "    \n",
    "    for i in range(0, len(text), 3):\n",
    "        block = ord(text[i])\n",
    "        for j in range(1, 3):\n",
    "            block <<= 16\n",
    "            block += ord(text[i + j])\n",
    "        \n",
    "        tmp = []\n",
    "        for j in range(8):\n",
    "            tmp.append(base[block & ((1 << 6) - 1)])\n",
    "            block >>= 6\n",
    "            \n",
    "        code.extend(reversed(tmp))\n",
    "        \n",
    "    return ''.join(code)\n",
    "    \n",
    "def decode(code):\n",
    "    if code == '':\n",
    "        return ''\n",
    "    \n",
    "    offset = ord(code[0])\n",
    "    \n",
    "    if offset in {3, 4}:\n",
    "        block = idx[code[1]]\n",
    "        for i in code[2: ]:\n",
    "            block <<= 6\n",
    "            block += idx[i]\n",
    "        \n",
    "        text = []\n",
    "        while block > 0:\n",
    "            text.append(chr(block & ((1 << 16) - 1)))\n",
    "            block >>= 16\n",
    "        \n",
    "        text.reverse()\n",
    "        \n",
    "        return ''.join(text)\n",
    "    \n",
    "    text = []\n",
    "    for i in range(1, len(code), 8):\n",
    "        block = idx[code[i]]\n",
    "        for j in range(1, 8):\n",
    "            block <<= 6\n",
    "            block += idx[code[i + j]]\n",
    "        \n",
    "        tmp = []\n",
    "        for j in range(3):\n",
    "            tmp.append(chr(block & ((1 << 16) - 1)))\n",
    "            block >>= 16\n",
    "        \n",
    "        text.extend(reversed(tmp))\n",
    "    \n",
    "    if offset:\n",
    "        for j in range(3 - offset):\n",
    "            text.pop()\n",
    "    \n",
    "    return ''.join(text)"
   ]
  },
  {
   "cell_type": "code",
   "execution_count": 78,
   "metadata": {},
   "outputs": [
    {
     "name": "stdout",
     "output_type": "stream",
     "text": [
      "Bag End先生的Bilbo Baggins先生宣布，他不久將以特別的輝煌的聚會慶祝他的第二十一歲\n",
      "\u0000AEIAYQBnACAARQBuAGRRSHUfdoQAQgBpAGwAYgBvACAAQgBhAGcAZwBpAG4Ac1FIdR9bo14D/wxO1k4NTkVcB07lcnlSJXaEjx1xTHaEgFpnA2F2eV1O1naEeyxOjFNBTgBrcgAK\n",
      "b'QmFnIEVuZOWFiOeUn+eahEJpbGJvIEJhZ2dpbnPlhYjnlJ/lrqPluIPvvIzku5bkuI3kuYXlsIfku6XnibnliKXnmoTovJ3nhYznmoTogZrmnIPmhbbnpZ3ku5bnmoTnrKzkuozljYHkuIDmrbIK'\n",
      "0.9731182795698925\n",
      "Bag End先生的Bilbo Baggins先生宣布，他不久將以特別的輝煌的聚會慶祝他的第二十一歲\n",
      "\n",
      "\n",
      "~~~~~~~~~~~~~~~~~~~~\n",
      "\n",
      "\u0000\u0000\u0000\u0000\u0000\u0000\u0000\u0000\u0000\u0000\u0000\u0000\u0000\u0000\u0000\u0000\u0000\u0000\u0000\u0000\u0000\u0000\u0000\u0000\u0000\u0000\u0000\u0000\u0000\u0000\u0000\u0000\u0000\u0000\u0000\u0000\u0000\u0000\u0000\u0000生日，霍比頓人的話語和興奮也很多。 ＃＃＃＃Bilbo非常富有，非常奇特，自從他的驚人的失踪和意想不\n",
      "\u0001AAAAAAAAAAAAAAAAAAAAAAAAAAAAAAAAAAAAAAAAAAAAAAAAAAAAAAAAAAAAAAAAAAAAAAAAAAAAAAAAAAAAAAAAAAAAAAAAAAAAAAAAAAB1H2Xl/wyXDWvUmBNOunaEinGKnlSMgghZbk5fX4hZGjACACD/A/8D/wP/AwBCAGkAbABiAG+XXl44W8xnCf8Ml15eOFlHcnn/DIHqX55O1naEmlpOunaEWTGOKlSMYQ9g804NAAoAAAAA\n",
      "b'AAAAAAAAAAAAAAAAAAAAAAAAAAAAAAAAAAAAAAAAAAAAAAAAAAAAAOeUn+aXpe+8jOmcjeavlOmgk+S6uueahOipseiqnuWSjOiIiOWlruS5n+W+iOWkmuOAgiDvvIPvvIPvvIPvvINCaWxib+mdnuW4uOWvjOacie+8jOmdnuW4uOWlh+eJue+8jOiHquW+nuS7lueahOmpmuS6uueahOWksei4quWSjOaEj+aDs+S4jQo='\n",
      "0.9161073825503355\n",
      "\u0000\u0000\u0000\u0000\u0000\u0000\u0000\u0000\u0000\u0000\u0000\u0000\u0000\u0000\u0000\u0000\u0000\u0000\u0000\u0000\u0000\u0000\u0000\u0000\u0000\u0000\u0000\u0000\u0000\u0000\u0000\u0000\u0000\u0000\u0000\u0000\u0000\u0000\u0000\u0000生日，霍比頓人的話語和興奮也很多。 ＃＃＃＃Bilbo非常富有，非常奇特，自從他的驚人的失踪和意想不\n",
      "\n",
      "\n",
      "~~~~~~~~~~~~~~~~~~~~\n",
      "\n",
      "\u0000\u0000\u0000\u0000\u0000\u0000\u0000\u0000\u0000\u0000\u0000\u0000到的回歸以來，一直是希雷六十年的奇蹟。他從旅行中帶回來的財富現在已經成為一個地方的傳說，無論老民間說\n",
      "\u0000AAAAAAAAAAAAAAAAAAAAAAAAAAAAAAAAUjB2hFbea3hO5U+G/wxOAHb0Zi9eDJb3UW1TQV50doRZR45fMAJO1l+eZcWITE4tXjZW3k+GdoSMoVvMc/5XKF3yfZNiEHC6TgBQC1cwZbl2hFCziqr/DHEhitaAAWwRlZOKqgAK\n",
      "b'AAAAAAAAAAAAAAAA5Yiw55qE5Zue5q245Lul5L6G77yM5LiA55u05piv5biM6Zu35YWt5Y2B5bm055qE5aWH6Lmf44CC5LuW5b6e5peF6KGM5Lit5bi25Zue5L6G55qE6LKh5a+M54++5Zyo5bey57aT5oiQ54K65LiA5YCL5Zyw5pa555qE5YKz6Kqq77yM54Sh6KuW6ICB5rCR6ZaT6KqqCg=='\n",
      "1.1605504587155964\n",
      "\u0000\u0000\u0000\u0000\u0000\u0000\u0000\u0000\u0000\u0000\u0000\u0000到的回歸以來，一直是希雷六十年的奇蹟。他從旅行中帶回來的財富現在已經成為一個地方的傳說，無論老民間說\n",
      "\n",
      "\n",
      "~~~~~~~~~~~~~~~~~~~~\n",
      "\n",
      "\n",
      "###########################\n",
      "###########################\n",
      "\n",
      "When Mr. Bilbo Baggins of Bag End announced that h\n",
      "\u0000AFcAaABlAG4AIABNAHIALgAgAEIAaQBsAGIAbwAgAEIAYQBnAGcAaQBuAHMAIABvAGYAIABCAGEAZwAgAEUAbgBkACAAYQBuAG4AbwB1AG4AYwBlAGQAIAB0AGgAYQB0ACAAaAAK\n",
      "b'V2hlbiBNci4gQmlsYm8gQmFnZ2lucyBvZiBCYWcgRW5kIGFubm91bmNlZCB0aGF0IGgK'\n",
      "0.543010752688172\n",
      "When Mr. Bilbo Baggins of Bag End announced that h\n",
      "\n",
      "\n",
      "~~~~~~~~~~~~~~~~~~~~\n",
      "\n",
      "\u0000\u0000\u0000\u0000\u0000\u0000\u0000\u0000\u0000\u0000\u0000\u0000e would shortly be celebrating his eleventy-first \n",
      "\u0000AAAAAAAAAAAAAAAAAAAAAAAAAAAAAAAAAGUAIAB3AG8AdQBsAGQAIABzAGgAbwByAHQAbAB5ACAAYgBlACAAYwBlAGwAZQBiAHIAYQB0AGkAbgBnACAAaABpAHMAIABlAGwAZQB2AGUAbgB0AHkALQBmAGkAcgBzAHQAIAAK\n",
      "b'AAAAAAAAAAAAAAAAZSB3b3VsZCBzaG9ydGx5IGJlIGNlbGVicmF0aW5nIGhpcyBlbGV2ZW50eS1maXJzdCAK'\n",
      "0.536697247706422\n",
      "\u0000\u0000\u0000\u0000\u0000\u0000\u0000\u0000\u0000\u0000\u0000\u0000e would shortly be celebrating his eleventy-first \n",
      "\n",
      "\n",
      "~~~~~~~~~~~~~~~~~~~~\n",
      "\n",
      "\u0000\u0000\u0000\u0000\u0000\u0000\u0000\u0000\u0000\u0000\u0000\u0000birthday with a party of special magnificence, the\n",
      "\u0000AAAAAAAAAAAAAAAAAAAAAAAAAAAAAAAAAGIAaQByAHQAaABkAGEAeQAgAHcAaQB0AGgAIABhACAAcABhAHIAdAB5ACAAbwBmACAAcwBwAGUAYwBpAGEAbAAgAG0AYQBnAG4AaQBmAGkAYwBlAG4AYwBlACwAIAB0AGgAZQAK\n",
      "b'AAAAAAAAAAAAAAAAYmlydGhkYXkgd2l0aCBhIHBhcnR5IG9mIHNwZWNpYWwgbWFnbmlmaWNlbmNlLCB0aGUK'\n",
      "0.536697247706422\n",
      "\u0000\u0000\u0000\u0000\u0000\u0000\u0000\u0000\u0000\u0000\u0000\u0000birthday with a party of special magnificence, the\n",
      "\n",
      "\n",
      "~~~~~~~~~~~~~~~~~~~~\n",
      "\n",
      "\n",
      "###########################\n",
      "###########################\n",
      "\n",
      "Bag EndのBilbo Baggins氏は、18歳の誕生日を特別な壮大なパーティでまもなく祝うと\n",
      "\u0000AEIAYQBnACAARQBuAGQwbgBCAGkAbABiAG8AIABCAGEAZwBnAGkAbgBzbA8wbzABADEAOGtzMG6KlXUfZeUwknJ5UiUwaljuWScwajDRMPwwxjCjMGcwfjCCMGowT3ldMEYwaAAK\n",
      "b'QmFnIEVuZOOBrkJpbGJvIEJhZ2dpbnPmsI/jga/jgIExOOats+OBruiqleeUn+aXpeOCkueJueWIpeOBquWjruWkp+OBquODkeODvOODhuOCo+OBp+OBvuOCguOBquOBj+elneOBhuOBqAo='\n",
      "0.9516129032258065\n",
      "Bag EndのBilbo Baggins氏は、18歳の誕生日を特別な壮大なパーティでまもなく祝うと\n",
      "\n",
      "\n",
      "~~~~~~~~~~~~~~~~~~~~\n",
      "\n",
      "\u0000\u0000\u0000\u0000\u0000\u0000\u0000\u0000\u0000\u0000\u0000\u0000\u0000\u0000\u0000\u0000\u0000\u0000\u0000\u0000\u0000\u0000\u0000\u0000\u0000\u0000\u0000\u0000\u0000\u0000\u0000\u0000\u0000\u0000\u0000\u0000\u0000\u0000\u0000\u0000\u0000\u0000\u0000\u0000発表したとき、ホビットンには多くの話と興奮がありました。ビルボは非常に豊かで非常に独特で、彼の顕著な\n",
      "\u0002AAAAAAAAAAAAAAAAAAAAAAAAAAAAAAAAAAAAAAAAAAAAAAAAAAAAAAAAAAAAAAAAAAAAAAAAAAAAAAAAAAAAAAAAAAAAAAAAAAAAAAAAAAAAAAAAAAAAAHZ6iGgwVzBfMGgwTTABMNsw0zDDMMgw8zBrMG9ZGjBPMG6KcTBogghZbjBMMEIwijB+MFcwXzACMNMw6zDcMG+XXl44MGuMSjBLMGeXXl44MGty7HJ5MGcwAV98MG6YVYRXMGoACgAA\n",
      "b'AAAAAAAAAAAAAAAAAAAAAAAAAAAAAAAAAAAAAAAAAAAAAAAAAAAAAAAAAADnmbrooajjgZfjgZ/jgajjgY3jgIHjg5vjg5Pjg4Pjg4jjg7Pjgavjga/lpJrjgY/jga7oqbHjgajoiIjlpa7jgYzjgYLjgorjgb7jgZfjgZ/jgILjg5Pjg6vjg5zjga/pnZ7luLjjgavosYrjgYvjgafpnZ7luLjjgavni6znibnjgafjgIHlvbzjga7poZXokZfjgaoK'\n",
      "0.9575163398692811\n",
      "\u0000\u0000\u0000\u0000\u0000\u0000\u0000\u0000\u0000\u0000\u0000\u0000\u0000\u0000\u0000\u0000\u0000\u0000\u0000\u0000\u0000\u0000\u0000\u0000\u0000\u0000\u0000\u0000\u0000\u0000\u0000\u0000\u0000\u0000\u0000\u0000\u0000\u0000\u0000\u0000\u0000\u0000\u0000\u0000発表したとき、ホビットンには多くの話と興奮がありました。ビルボは非常に豊かで非常に独特で、彼の顕著な\n",
      "\n",
      "\n",
      "~~~~~~~~~~~~~~~~~~~~\n",
      "\n",
      "失踪と予期せぬ復帰以来、60年にわたりシャイアの驚異であった。彼が旅行から持ち帰った富は今や地元の伝\n",
      "\u0000WTGOKjBoTohnHzBbMGxfqV4wTuVnZTABADYAMF50MGswjzBfMIowtzDjMKQwojBumlp1cDBnMEIwYzBfMAJffDBMZcWITDBLMIljATBhXjAwYzBfW8wwb07KMIRXMFFDMG5PHQAK\n",
      "b'5aSx6Liq44Go5LqI5pyf44Gb44Gs5b6p5biw5Lul5p2l44CBNjDlubTjgavjgo/jgZ/jgorjgrfjg6PjgqTjgqLjga7pqZrnlbDjgafjgYLjgaPjgZ/jgILlvbzjgYzml4XooYzjgYvjgonmjIHjgaHluLDjgaPjgZ/lr4zjga/ku4rjgoTlnLDlhYPjga7kvJ0K'\n",
      "1.2311827956989247\n",
      "失踪と予期せぬ復帰以来、60年にわたりシャイアの驚異であった。彼が旅行から持ち帰った富は今や地元の伝\n",
      "\n",
      "\n",
      "~~~~~~~~~~~~~~~~~~~~\n",
      "\n",
      "\n",
      "###########################\n",
      "###########################\n",
      "\n"
     ]
    }
   ],
   "source": [
    "import sys\n",
    "\n",
    "for txt in texts:\n",
    "    for rec in txt[: 3]:\n",
    "        code = encode(rec)\n",
    "        code64 = base64.b64encode(bytes(rec, encoding='utf-8'))\n",
    "        \n",
    "        t = decode(code)\n",
    "\n",
    "        print(rec, end='')\n",
    "        print(code)\n",
    "        print(code64)\n",
    "        print(sys.getsizeof(code64) / sys.getsizeof(code))\n",
    "        print(t)\n",
    "        print('\\n~~~~~~~~~~~~~~~~~~~~\\n')\n",
    "    \n",
    "    print('\\n###########################')\n",
    "    print('###########################\\n')"
   ]
  },
  {
   "cell_type": "code",
   "execution_count": 79,
   "metadata": {},
   "outputs": [
    {
     "name": "stdout",
     "output_type": "stream",
     "text": [
      "(array([], dtype=int64),)\n"
     ]
    }
   ],
   "source": [
    "import numpy as np\n",
    "\n",
    "decodes = []\n",
    "for rec in text:\n",
    "    code = encode(rec)\n",
    "    t = decode(code)\n",
    "    decodes.append(t)\n",
    "    \n",
    "decodes = np.array(decodes)\n",
    "text = np.array(text)\n",
    "print(np.where(decodes != text))"
   ]
  },
  {
   "cell_type": "markdown",
   "metadata": {},
   "source": [
    "Как видно, на тестовых данных алгоритм работает корректно. Посмотрим, что с эффективностью:"
   ]
  },
  {
   "cell_type": "code",
   "execution_count": 80,
   "metadata": {},
   "outputs": [
    {
     "name": "stdout",
     "output_type": "stream",
     "text": [
      "1.1372894749\n",
      "0.57477644674\n",
      "1.17447692962\n"
     ]
    }
   ],
   "source": [
    "coeffs = []\n",
    "for txt in texts:\n",
    "    tmp = []\n",
    "    for rec in txt:\n",
    "        code = encode(rec)\n",
    "        code64 = base64.b64encode(bytes(rec, encoding='utf-8'))\n",
    "        tmp.append(sys.getsizeof(code64) / sys.getsizeof(code))\n",
    "    coeffs.append(tmp)\n",
    "        \n",
    "for i in range(3):\n",
    "    print(np.mean(coeffs[i]))"
   ]
  },
  {
   "cell_type": "markdown",
   "metadata": {},
   "source": [
    "Как видно, наше кодирование проигрывает при шифровании текстов, состоящих из символов с небольшим (меньше двух байт) кодом, например, при шифровании английской речи. С другой стороны, при шифровании текстов из двухбайтовых символов наблюдается выигрыш. Если писать не наивный оптимизированный алгоритм, использующий особенности юникода и нетривиальные идеи для хранения, можно получить более практически значимый алгоритм, однако это выходит за рамки данного задания."
   ]
  }
 ],
 "metadata": {
  "kernelspec": {
   "display_name": "Python 3",
   "language": "python",
   "name": "python3"
  },
  "language_info": {
   "codemirror_mode": {
    "name": "ipython",
    "version": 3
   },
   "file_extension": ".py",
   "mimetype": "text/x-python",
   "name": "python",
   "nbconvert_exporter": "python",
   "pygments_lexer": "ipython3",
   "version": "3.6.1"
  }
 },
 "nbformat": 4,
 "nbformat_minor": 2
}
