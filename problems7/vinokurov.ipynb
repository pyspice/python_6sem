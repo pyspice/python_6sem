{
 "cells": [
  {
   "cell_type": "markdown",
   "metadata": {},
   "source": [
    "# Задание 7"
   ]
  },
  {
   "cell_type": "markdown",
   "metadata": {},
   "source": [
    "## 1. PropertyCreator (0.2 балла)\n",
    "\n",
    "Напишите мета класс для создания свойств (property) класса из функций начинающихся с \"set\\_\", \"get\\_\" или \"del_\". Пример использования:\n",
    "<code>\n",
    "class TestPropertyCreator(metaclass=PropertyCreator):\n",
    "    def \\__init\\__(self, lo):\n",
    "        self.__x = None\n",
    "        self.lo = lo\n",
    "\n",
    "    def get_x(self):\n",
    "        return self.__x\n",
    "\n",
    "    def set_x(self, value):\n",
    "        if value < self.lo:\n",
    "            raise ValueError(\"Value must in condition: {} <= value\".format(self.lo))\n",
    "        self.__x = value\n",
    "    \n",
    "    def del_x(self):\n",
    "        self.__x = \"No more\"\n",
    "\n",
    "    pass\n",
    "\n",
    "\n",
    "obj = TestPropertyCreator(5)\n",
    "obj.x = 4\n",
    "print(obj.x)\n",
    "del (obj.x)\n",
    "</code>\n",
    "\n",
    "* Мета класс должен поддерживать наследование, в смысле создавать свойства у потомков.\n",
    "* Должен поддерживать частичное описание свойств, т. е. например, описание одного метода get_val (без set_val и del_val).\n",
    "* Поддерживать множественное использование одного свойства с одним именем в разных классах:\n",
    "\n",
    "<code>\n",
    "class A(metaclass=PropertyCreator):\n",
    "    def get_x(self):\n",
    "        return \"x in class A\"\n",
    "\n",
    "class B(metaclass=PropertyCreator):\n",
    "    def get_x(self):\n",
    "        return \"x in class B\"\n",
    "\n",
    "class C(metaclass=PropertyCreator):\n",
    "    def set_x(self, value):\n",
    "        self.value = \"x in class C\"\n",
    "    def get_x(self):\n",
    "        return self.value\n",
    "</code>\n",
    "* Должен уметь обрабатывать имен с несколькими подчеркиваниями \"get_raw_text\"."
   ]
  },
  {
   "cell_type": "markdown",
   "metadata": {},
   "source": [
    "#### Решение"
   ]
  },
  {
   "cell_type": "code",
   "execution_count": 1,
   "metadata": {},
   "outputs": [],
   "source": [
    "from collections import defaultdict"
   ]
  },
  {
   "cell_type": "code",
   "execution_count": 2,
   "metadata": {},
   "outputs": [],
   "source": [
    "class PropertyCreator(type):\n",
    "    def __new__(cls, name, bases, attr):\n",
    "        def invoke(*args):\n",
    "            raise AttributeError('no such delegate')\n",
    "            \n",
    "        props = defaultdict(lambda: [invoke] * 3)\n",
    "        mp = defaultdict(lambda: -1, {'get_': 0, 'set_': 1, 'del_': 2})\n",
    "        \n",
    "        for delegate in attr:\n",
    "            idx = mp[delegate[: 4]]\n",
    "            if idx != -1:\n",
    "                props[delegate[4: ]][idx] = attr[delegate]\n",
    "                \n",
    "        for prop, delegates in props.items():\n",
    "            attr[prop] = property(*delegates)\n",
    "        \n",
    "        return super().__new__(cls, name, bases, attr)"
   ]
  },
  {
   "cell_type": "markdown",
   "metadata": {},
   "source": [
    "#### Протестируйте свое решение"
   ]
  },
  {
   "cell_type": "code",
   "execution_count": 3,
   "metadata": {},
   "outputs": [],
   "source": [
    "def test_simple():\n",
    "    class TestPropertyCreator(object, metaclass=PropertyCreator):\n",
    "        def __init__(self, lo):\n",
    "            self.__x = None\n",
    "            self.lo = lo\n",
    "        def get_x(self):\n",
    "            return self.__x\n",
    "\n",
    "        def set_x(self, value):\n",
    "            if value < self.lo:\n",
    "                raise ValueError(\"Value must in condition: {} <= value\".format(self.lo))\n",
    "            self.__x = value\n",
    "\n",
    "        def del_x(self):\n",
    "            self.__x = \"No more\"\n",
    "    \n",
    "    test = TestPropertyCreator(lo=10)\n",
    "    \n",
    "    try:\n",
    "        test.x = 0\n",
    "    except ValueError as err:\n",
    "        print(err)\n",
    "        \n",
    "    test.x = 10\n",
    "    print(test.x)\n",
    "    \n",
    "    del test.x\n",
    "    print(test.x)\n",
    "    \n",
    "def test_with_inheritance():\n",
    "    class TestPropertyCreator(metaclass=PropertyCreator):\n",
    "        pass\n",
    "\n",
    "    class TestPropertyCreatorInheritance(TestPropertyCreator):\n",
    "        def __init__(self):\n",
    "            self._secret_list = []\n",
    "\n",
    "        def get_x(self):\n",
    "            self._secret_list.append(\"get\")\n",
    "            return 0\n",
    "\n",
    "        def set_x(self, value):\n",
    "            self._secret_list.append(\"set\")\n",
    "    \n",
    "    test = TestPropertyCreatorInheritance()\n",
    "\n",
    "    print(test.x)\n",
    "    \n",
    "    test.x = 10\n",
    "    print(test.x)\n",
    "        \n",
    "    try:\n",
    "        del test.x\n",
    "    except Exception as e:\n",
    "        print(e)\n",
    "        \n",
    "    print(test._secret_list)\n",
    "    \n",
    "def test_partially_defined():\n",
    "    class TestPropertyCreator(metaclass=PropertyCreator):\n",
    "        def __init__(self):\n",
    "            self._secret_list = []\n",
    "\n",
    "        def get_x(self):\n",
    "            self._secret_list.append(\"get\")\n",
    "            return 0\n",
    "\n",
    "        def set_y(self, value):\n",
    "            self._secret_list.append(\"set\")\n",
    "            self._y = value\n",
    "    \n",
    "    test = TestPropertyCreator()\n",
    "    \n",
    "    print(test.x)\n",
    "    try:\n",
    "        test.x = 10\n",
    "    except Exception as e:\n",
    "        print(e)\n",
    "        \n",
    "    test.y = 10\n",
    "    try:\n",
    "        print(test.y)\n",
    "    except Exception as e:\n",
    "        print(e)\n",
    "        \n",
    "    print(test._secret_list)\n",
    "    print(test._y)\n",
    "    \n",
    "def test_sanity():\n",
    "    class TestPropertyCreator(metaclass=PropertyCreator):\n",
    "        _text = 0\n",
    "        def get_raw_text(self):\n",
    "             return self._boo\n",
    "\n",
    "        def get_text(self):\n",
    "             return self._text % 2\n",
    "\n",
    "        def set_text(self, value):\n",
    "            try:\n",
    "                self._text = int(value)\n",
    "            except ValueError:\n",
    "                raise TypeError(\"unproper value for text: {}\".format(value))\n",
    "    \n",
    "    test = TestPropertyCreator()\n",
    "    \n",
    "    try:\n",
    "        test.raw_text = 'NO'\n",
    "    except Exception as e:\n",
    "        print(e)\n",
    "        \n",
    "    try:\n",
    "        print(test.raw_text)\n",
    "    except Exception as e:\n",
    "        print(e)\n",
    "        \n",
    "    print(test.text)\n",
    "    test.text = 10\n",
    "    print(test.text)\n",
    "\n",
    "def test_multiple_usages():\n",
    "    class TestPropertyCreatorA(metaclass=PropertyCreator):\n",
    "        def get_x(self):\n",
    "            return 0\n",
    "    class TestPropertyCreatorB(metaclass=PropertyCreator):\n",
    "        def get_x(self):\n",
    "            return 1\n",
    "    class TestPropertyCreatorC(metaclass=PropertyCreator):\n",
    "        def set_x(self, value):\n",
    "            self.value = value + 1\n",
    "        def get_x(self):\n",
    "            return self.value\n",
    "    \n",
    "    testa = TestPropertyCreatorA()\n",
    "    testb = TestPropertyCreatorB()\n",
    "    testc = TestPropertyCreatorC()\n",
    "    \n",
    "    print(testa.x)\n",
    "    print(testb.x)\n",
    "    \n",
    "    testc.x = 10\n",
    "    print(testc.x)\n",
    "    \n",
    "    print(testa.x)\n",
    "    print(testb.x)"
   ]
  },
  {
   "cell_type": "code",
   "execution_count": 4,
   "metadata": {},
   "outputs": [
    {
     "name": "stdout",
     "output_type": "stream",
     "text": [
      "Value must in condition: 10 <= value\n",
      "10\n",
      "No more\n"
     ]
    }
   ],
   "source": [
    "test_simple()"
   ]
  },
  {
   "cell_type": "code",
   "execution_count": 5,
   "metadata": {},
   "outputs": [
    {
     "name": "stdout",
     "output_type": "stream",
     "text": [
      "0\n",
      "0\n",
      "no such delegate\n",
      "['get', 'set', 'get']\n"
     ]
    }
   ],
   "source": [
    "test_with_inheritance()"
   ]
  },
  {
   "cell_type": "code",
   "execution_count": 6,
   "metadata": {},
   "outputs": [
    {
     "name": "stdout",
     "output_type": "stream",
     "text": [
      "0\n",
      "no such delegate\n",
      "no such delegate\n",
      "['get', 'set']\n",
      "10\n"
     ]
    }
   ],
   "source": [
    "test_partially_defined()"
   ]
  },
  {
   "cell_type": "code",
   "execution_count": 7,
   "metadata": {},
   "outputs": [
    {
     "name": "stdout",
     "output_type": "stream",
     "text": [
      "no such delegate\n",
      "'TestPropertyCreator' object has no attribute '_boo'\n",
      "0\n",
      "0\n"
     ]
    }
   ],
   "source": [
    "test_sanity()"
   ]
  },
  {
   "cell_type": "code",
   "execution_count": 8,
   "metadata": {},
   "outputs": [
    {
     "name": "stdout",
     "output_type": "stream",
     "text": [
      "0\n",
      "1\n",
      "11\n",
      "0\n",
      "1\n"
     ]
    }
   ],
   "source": [
    "test_multiple_usages()"
   ]
  },
  {
   "cell_type": "markdown",
   "metadata": {},
   "source": [
    "Все ОК."
   ]
  },
  {
   "cell_type": "markdown",
   "metadata": {},
   "source": [
    "## 2. InstanceCountExeptioner (0.2 балла)\n",
    "Напишите метакласс InstanceCountExeptioner, который будет следить за количеством экземпляров класса, использующих его. Количество задается через поле класса \\_\\_max_instane\\_count\\_\\_. Т. е. число экземпляров каждого класса регулируется отдельно. Если в классе не указано поле \\_\\_max_instane\\_count\\_\\_, то используйте заранее заданное число в метаклассе (любое). Пример:\n",
    "\n",
    "<code>\n",
    "class TestInstanceCountExeptionerA(metaclass=InstanceCountExeptioner):\n",
    "    \\_\\_max_instane\\_count\\_\\_ = 2\n",
    "    def \\__init\\__(self, a):\n",
    "        self.a = a\n",
    "\n",
    "\n",
    "class TestInstanceCountExeptionerB(metaclass=InstanceCountExeptioner):\n",
    "    \\_\\_max_instane\\_count\\_\\_ = 1\n",
    "    def \\__init\\__(self, a):\n",
    "        self.a = a\n",
    "\n",
    "a_one = TestInstanceCountExeptionerA('one')\n",
    "a_two = TestInstanceCountExeptionerA('two')\n",
    "b_one = TestInstanceCountExeptionerB('one')\n",
    "\\# пока всё шло хорошо\n",
    "\n",
    "\\# а вот\n",
    "a_three = TestInstanceCountExeptionerA('three')\n",
    "\\# выкенет исключение InstanceCountExeption (ваше собственное исключение)\n",
    "</code>"
   ]
  },
  {
   "cell_type": "markdown",
   "metadata": {},
   "source": [
    "#### Решение"
   ]
  },
  {
   "cell_type": "code",
   "execution_count": 9,
   "metadata": {},
   "outputs": [
    {
     "ename": "SyntaxError",
     "evalue": "invalid syntax (<ipython-input-9-77392e78ba9e>, line 2)",
     "output_type": "error",
     "traceback": [
      "\u001b[1;36m  File \u001b[1;32m\"<ipython-input-9-77392e78ba9e>\"\u001b[1;36m, line \u001b[1;32m2\u001b[0m\n\u001b[1;33m    <your code here>\u001b[0m\n\u001b[1;37m    ^\u001b[0m\n\u001b[1;31mSyntaxError\u001b[0m\u001b[1;31m:\u001b[0m invalid syntax\n"
     ]
    }
   ],
   "source": [
    "# Опишите исключение InstanceCountExeption\n",
    "<your code here>"
   ]
  },
  {
   "cell_type": "code",
   "execution_count": null,
   "metadata": {},
   "outputs": [],
   "source": [
    "# Опишите мета класс InstanceCountExeptioner\n",
    "class InstanceCountExeptioner(type):\n",
    "    <your code here>"
   ]
  },
  {
   "cell_type": "markdown",
   "metadata": {},
   "source": [
    "#### Протестируйте свое решение"
   ]
  },
  {
   "cell_type": "code",
   "execution_count": 10,
   "metadata": {},
   "outputs": [
    {
     "ename": "SyntaxError",
     "evalue": "invalid syntax (<ipython-input-10-2db94e88b9cb>, line 22)",
     "output_type": "error",
     "traceback": [
      "\u001b[1;36m  File \u001b[1;32m\"<ipython-input-10-2db94e88b9cb>\"\u001b[1;36m, line \u001b[1;32m22\u001b[0m\n\u001b[1;33m    <your code here>\u001b[0m\n\u001b[1;37m    ^\u001b[0m\n\u001b[1;31mSyntaxError\u001b[0m\u001b[1;31m:\u001b[0m invalid syntax\n"
     ]
    }
   ],
   "source": [
    "class TestInstanceCountExeptionerA(metaclass=InstanceCountExeptioner):\n",
    "    __max_instance_count__ = 2\n",
    "\n",
    "    def __init__(self):\n",
    "        self.a = 1\n",
    "\n",
    "    def get(self):\n",
    "        return self.a\n",
    "\n",
    "\n",
    "class TestInstanceCountExeptionerB(metaclass=InstanceCountExeptioner):\n",
    "    __max_instance_count__ = 3\n",
    "\n",
    "    def __init__(self):\n",
    "        self.b = 2\n",
    "\n",
    "    def get(self):\n",
    "        return self.b\n",
    "\n",
    "    \n",
    "def test_simple(self):\n",
    "    <your code here>\n",
    "    \n",
    "\n",
    "def test_create(self):\n",
    "    <your code here>\n",
    "\n",
    "def test_fail_create_a(self):\n",
    "    <your code here>\n",
    "    try:\n",
    "        <your code here>\n",
    "    except InstanceCountExeption as e:\n",
    "        <your code here>\n",
    "    \n",
    "\n",
    "def test_fail_create_b(self):\n",
    "    <your code here>\n",
    "    try:\n",
    "        <your code here>\n",
    "    except InstanceCountExeption as e:\n",
    "        <your code here>"
   ]
  },
  {
   "cell_type": "markdown",
   "metadata": {},
   "source": [
    "## 3. JSONClassCreator (0.6 баллов)\n",
    "Напишите метакласс, который будет по json представлению строить новый класс и обратно. Класс должен уметь следующее:\n",
    "* Поддерживать сохранение и получение магических функций класса.\n",
    "* Поддерживать сохранение и получение обычных функций.\n",
    "* Поддерживать сохранение полей со стандартными типами.\n",
    "* Уберите из сохранения следующие поля и методы: ['\\_\\_dict\\_\\_', '\\_\\_weakref\\_\\_', '\\_\\_module\\_\\_', '\\_\\_init\\_\\_']\n",
    "* У создаваемого класса должна быть функция to_json_str\n",
    "\n",
    "Формат json строки должен быть следующий:\n",
    "\n",
    "<code>\n",
    "{\n",
    "    \"name\": название класса,\n",
    "    \"bases\": базовые классы,\n",
    "    \"methods\": методы класса,\n",
    "    \"attrs\": поля класса\n",
    "}\n",
    "</code>\n",
    "\n",
    "Рекомендации:\n",
    "* Для получения кода функций используйте модуль <a href=\"http://python-lab.ru/documentation/27/stdlib/inspect.html\">inspect</a>.\n",
    "* Для того, чтобы запустить код функций, можно использовать exec.\n",
    "* Можно не исправлять ошибку типа OSError: could not get source code - возникает для функций, полученных с помощью exec."
   ]
  },
  {
   "cell_type": "markdown",
   "metadata": {},
   "source": [
    "#### Пример использования"
   ]
  },
  {
   "cell_type": "markdown",
   "metadata": {},
   "source": [
    "#### Решение"
   ]
  },
  {
   "cell_type": "code",
   "execution_count": 11,
   "metadata": {},
   "outputs": [],
   "source": [
    "import json\n",
    "import inspect"
   ]
  },
  {
   "cell_type": "code",
   "execution_count": 12,
   "metadata": {},
   "outputs": [],
   "source": [
    "class JSONClassCreator(type):\n",
    "    def __new__(cls, json_str):\n",
    "        js = json.loads(json_str)\n",
    "        \n",
    "        name = js['name']\n",
    "        bases = []\n",
    "        for base in js['bases']:\n",
    "            if base not in globals():\n",
    "                raise NameError('base class {} not found'.format(base))\n",
    "            else:\n",
    "                bases.append(globals()[base])\n",
    "        \n",
    "        attrs = {}\n",
    "        for key in js['methods']:\n",
    "            exec(js['methods'][key])            \n",
    "            attrs[key] = locals()[key]\n",
    "\n",
    "        for key in js['attrs']:\n",
    "            attrs[key] = js['attrs'][key]\n",
    "        attrs['to_json_str'] = JSONClassCreator.to_json_str\n",
    "        \n",
    "        return super().__new__(cls, name, tuple(bases), attrs)\n",
    "    \n",
    "    def to_json_str(cls):\n",
    "        exclude = ['__dict__', '__weakref__', '__module__', '__init__']\n",
    "        \n",
    "        name = cls.__name__\n",
    "        bases = [base.__name__ for base in cls.__bases__]\n",
    "        \n",
    "        methods = {}\n",
    "        attrs = {}\n",
    "        \n",
    "        for key in cls.__dict__:\n",
    "            if key in exclude:\n",
    "                continue\n",
    "                \n",
    "            if inspect.isfunction(cls.__dict__[key]):\n",
    "                lines, _ = inspect.getsourcelines(cls.__dict__[key])\n",
    "                lines[0] = lines[0].strip() + '\\n'\n",
    "                methods[key] = ''.join(lines)\n",
    "            else:\n",
    "                attrs[key] = cls.__dict__[key]\n",
    "\n",
    "        return json.dumps({\n",
    "            'name': name,\n",
    "            'bases': bases,\n",
    "            'methods': methods,\n",
    "            'attrs': attrs\n",
    "        })"
   ]
  },
  {
   "cell_type": "markdown",
   "metadata": {},
   "source": [
    "#### Проверьте свое решение на примере"
   ]
  },
  {
   "cell_type": "code",
   "execution_count": 26,
   "metadata": {},
   "outputs": [],
   "source": [
    "class ParentTest1(object):\n",
    "    pass\n",
    "\n",
    "class ParentTest2(object):\n",
    "    pass\n",
    "\n",
    "class Test(ParentTest1, ParentTest2):\n",
    "    \"\"\"Тестовый класс\"\"\"\n",
    "\n",
    "    val = [1, 2, 3]\n",
    "\n",
    "    def f(self, x):\n",
    "        print(x)\n",
    "    \n",
    "    def __repr__(self):\n",
    "        return \"Test(val={})\".format(self.val)\n",
    "\n",
    "    def __str__(self):\n",
    "        return \"Test(val={})\".format(self.val)\n",
    "\n",
    "    pass"
   ]
  },
  {
   "cell_type": "code",
   "execution_count": 27,
   "metadata": {},
   "outputs": [
    {
     "name": "stdout",
     "output_type": "stream",
     "text": [
      "('name', 'Test')\n",
      "('bases', ['ParentTest1', 'ParentTest2'])\n",
      "('methods', {'f': 'def f(self, x):\\n        print(x)\\n', '__repr__': 'def __repr__(self):\\n        return \"Test(val={})\".format(self.val)\\n', '__str__': 'def __str__(self):\\n        return \"Test(val={})\".format(self.val)\\n'})\n",
      "('attrs', {'__doc__': 'Тестовый класс', 'val': [1, 2, 3]})\n"
     ]
    }
   ],
   "source": [
    "print(*json.loads(JSONClassCreator.to_json_str(Test)).items(), sep=\"\\n\")"
   ]
  },
  {
   "cell_type": "code",
   "execution_count": 28,
   "metadata": {},
   "outputs": [],
   "source": [
    "tmp = JSONClassCreator(JSONClassCreator.to_json_str(Test))"
   ]
  },
  {
   "cell_type": "code",
   "execution_count": 29,
   "metadata": {},
   "outputs": [
    {
     "name": "stdout",
     "output_type": "stream",
     "text": [
      "hi\n"
     ]
    },
    {
     "data": {
      "text/plain": [
       "(Test(val=[1, 2, 3]), None, [1, 2, 3], 'Тестовый класс')"
      ]
     },
     "execution_count": 29,
     "metadata": {},
     "output_type": "execute_result"
    }
   ],
   "source": [
    "tmp_obj = tmp()\n",
    "tmp_obj, tmp_obj.f(\"hi\"), tmp.val, tmp.__doc__"
   ]
  },
  {
   "cell_type": "code",
   "execution_count": 30,
   "metadata": {
    "scrolled": true
   },
   "outputs": [
    {
     "data": {
      "text/plain": [
       "mappingproxy({'f': <function __main__.f(self, x)>,\n",
       "              '__repr__': <function __main__.__repr__(self)>,\n",
       "              '__str__': <function __main__.__str__(self)>,\n",
       "              '__doc__': 'Тестовый класс',\n",
       "              'val': [1, 2, 3],\n",
       "              'to_json_str': <function __main__.JSONClassCreator.to_json_str(cls)>,\n",
       "              '__module__': '__main__'})"
      ]
     },
     "execution_count": 30,
     "metadata": {},
     "output_type": "execute_result"
    }
   ],
   "source": [
    "tmp.__dict__"
   ]
  },
  {
   "cell_type": "markdown",
   "metadata": {},
   "source": [
    "Все ОК."
   ]
  }
 ],
 "metadata": {
  "kernelspec": {
   "display_name": "Python 3",
   "language": "python",
   "name": "python3"
  },
  "language_info": {
   "codemirror_mode": {
    "name": "ipython",
    "version": 3
   },
   "file_extension": ".py",
   "mimetype": "text/x-python",
   "name": "python",
   "nbconvert_exporter": "python",
   "pygments_lexer": "ipython3",
   "version": "3.6.5"
  }
 },
 "nbformat": 4,
 "nbformat_minor": 2
}
