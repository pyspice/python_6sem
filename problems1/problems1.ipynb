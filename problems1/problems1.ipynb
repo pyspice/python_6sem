{
 "cells": [
  {
   "cell_type": "markdown",
   "metadata": {},
   "source": [
    "# Задание 1\n",
    "\n",
    "\n",
    "### Целью этого задания является знакомство со стандартными контейнерами и некторыми функциями из стандартных библиотек для машинного обучения.\n",
    "\n",
    "Напишите наивный байесовский классификатор и сравните его с реализацией NaiveBayesClassifier из библиотеки nltk.\n",
    "\n",
    "Написанный вами классификатор должен обладать следубщими свойствами:\n",
    "<ul>\n",
    "<li>В предложенном интерфейсе класса должны быть реализованы все методы и все поля. Для их хранения предподсчитанных данных рекомендуется использовать контейнеры Counter или defaultdict из библиотеки collections. Для предсказания категории рекомендуется использовать numpy.</li>\n",
    "<li>Должна использоваться модель, предложенная в теории.</li>\n",
    "<li>Точность предсказаний не менее <b>0.9</b>!</li>\n",
    "<li>После реализации класса протестируйте его с помощью кроссвалидации с k=10. Рекомендуется использовать класс KFold из библиотеки sklearn.</li>\n",
    "<li>Постройте постройте диаграмму размаха для классификаторов (своего и из библиотеки).</li>\n",
    "</ul>"
   ]
  },
  {
   "cell_type": "markdown",
   "metadata": {},
   "source": [
    "### Теория"
   ]
  },
  {
   "cell_type": "markdown",
   "metadata": {},
   "source": [
    "Теория находится в файле problems1-theory.pdf"
   ]
  },
  {
   "cell_type": "markdown",
   "metadata": {},
   "source": [
    "# Решение"
   ]
  },
  {
   "cell_type": "code",
   "execution_count": 4,
   "metadata": {},
   "outputs": [
    {
     "name": "stdout",
     "output_type": "stream",
     "text": [
      "Populating the interactive namespace from numpy and matplotlib\n"
     ]
    }
   ],
   "source": [
    "import pandas as pd\n",
    "import numpy as np\n",
    "from collections import Counter, defaultdict\n",
    "from sklearn.cross_validation import KFold\n",
    "from sklearn.metrics import accuracy_score\n",
    "from nltk import NaiveBayesClassifier as NBC\n",
    "from nltk.tokenize import word_tokenize\n",
    "from matplotlib import pyplot as plt\n",
    "from tqdm import tqdm\n",
    "\n",
    "%pylab inline"
   ]
  },
  {
   "cell_type": "markdown",
   "metadata": {},
   "source": [
    "### Прочитайте данные из файла"
   ]
  },
  {
   "cell_type": "code",
   "execution_count": 5,
   "metadata": {
    "collapsed": true
   },
   "outputs": [],
   "source": [
    "data_path = \"ham-spam.csv\""
   ]
  },
  {
   "cell_type": "code",
   "execution_count": 6,
   "metadata": {
    "collapsed": true
   },
   "outputs": [],
   "source": [
    "sheet = pd.read_csv(data_path)"
   ]
  },
  {
   "cell_type": "markdown",
   "metadata": {},
   "source": [
    "### Реализуйте все методы в классе NaiveBayes"
   ]
  },
  {
   "cell_type": "code",
   "execution_count": 7,
   "metadata": {
    "collapsed": true
   },
   "outputs": [],
   "source": [
    "class NaiveBayes(object):\n",
    "    \"\"\"\n",
    "    Наивный байесовский классификатор.\n",
    "    Для каждого входного сообщения слово учитывается один раз при расчете итоговой вероятности.\n",
    "\n",
    "    Parameters\n",
    "    ----------\n",
    "    category_priors : default | None, optional, default None\n",
    "        Априорные вероятности категорий.\n",
    "        Если None, то классификатор должен сам их вычислить.\n",
    "\n",
    "    weight : float, optional, default 1\n",
    "        Вес одного слова в формуле взвешенной вероятности\n",
    "\n",
    "    supposed_prob : float, optional, default 0.5\n",
    "        Предполагаемая вероятность слова в категории\n",
    "    \"\"\"\n",
    "\n",
    "    def __init__(self, category_priors=None, weight=1, supposed_prob=0.5):\n",
    "        self.category_priors = category_priors        \n",
    "        self.weight = weight\n",
    "        self.supposed_prob = supposed_prob\n",
    "        \n",
    "        # Количество отдельных слов в заданной категории\n",
    "        self.feature_category_counts = defaultdict(Counter)\n",
    "\n",
    "        # Количество всех документов в данной категории\n",
    "        self.category_doc_counts = Counter()\n",
    "\n",
    "        # Количество встреч слова во всех сообщениях\n",
    "        self.feature_counts = Counter()\n",
    "        \n",
    "        # Categories names\n",
    "        self.categories = None\n",
    "\n",
    "        # Total number of features in categories and at all\n",
    "        self.features = None\n",
    "        self.category_features = Counter()\n",
    "\n",
    "    def fit(self, x_train, y_train):\n",
    "        \"\"\"\n",
    "        Производит обучение наивного байесовского классификатора.\n",
    "\n",
    "        Parameters\n",
    "        ----------\n",
    "        x_train : list of list of str | list of str | str\n",
    "            Входной текст описывается строкой, которую будет токенизирована по пробелу.\n",
    "            Если строка не токенизирована, то текст должен быть токенизирован.\n",
    "            Может быть передано несколько сообщений, которые будут токенезированы, если необходимо.\n",
    "\n",
    "        y_train : list of str\n",
    "            содержит список меток (названий категорий) для сообщений из x_train\n",
    "\n",
    "        Returns\n",
    "        -------\n",
    "        self : object\n",
    "            Returns self\n",
    "        \"\"\"\n",
    "        \n",
    "        if isinstance(x_train, str):\n",
    "            x_train = [x_train]\n",
    "            \n",
    "        for i in range(len(x_train)):\n",
    "            if isinstance(x_train[i], str):\n",
    "                x_train[i] = [x_train[i]]\n",
    "                \n",
    "            line = []\n",
    "            for j in x_train[i]:\n",
    "                line.extend(j.split())\n",
    "                \n",
    "            x_train[i] = line\n",
    "        \n",
    "        # Подсчитываем количество категорий, документов и слов в каждой категории\n",
    "        # и количество встреч слова во всех сообщениях\n",
    "        for i in range(len(y_train)):\n",
    "            self.feature_category_counts[y_train[i]].update(x_train[i])\n",
    "            self.feature_counts.update(x_train[i])\n",
    "        self.category_doc_counts.update(y_train)\n",
    "        \n",
    "        self.categories = list(self.category_doc_counts.keys())\n",
    "        \n",
    "        self.features = sum(list(self.feature_counts.values()))\n",
    "        for cat_name in self.get_categories():\n",
    "            self.category_features[cat_name] = sum(list(self.feature_category_counts[cat_name].values()))\n",
    "        \n",
    "        # Если априорные вероятности категорий не заданы, то надо аппроксимировать их\n",
    "        if self.category_priors is None:\n",
    "            self.category_priors = dict()\n",
    "            for cat_name in self.get_categories():\n",
    "                self.category_priors[cat_name] = self.category_features[cat_name] / self.features\n",
    "        \n",
    "        return self\n",
    "\n",
    "    def predict(self, text):\n",
    "        \"\"\"\n",
    "        Предсказывает метки категорий для text.\n",
    "\n",
    "        Parameters\n",
    "        ----------\n",
    "        text : list of list of str | list of str | str\n",
    "            Входной текст описывается строкой, которую будет токенизирована по пробелу.\n",
    "            Если строка не токенизирована, то текст должен быть токенизирован.\n",
    "            Может быть передано несколько сообщений, которые будут токенезированы, если необходимо.\n",
    "\n",
    "        Returns\n",
    "        -------\n",
    "        categories : list of str\n",
    "            Возвращает названия категорий для text.\n",
    "        \"\"\"\n",
    "        \n",
    "        categories = []\n",
    "        \n",
    "        if isinstance(text, str):\n",
    "            text = [text]\n",
    "            \n",
    "        for i in range(len(text)):\n",
    "            if isinstance(text[i], str):\n",
    "                text[i] = [text[i]]\n",
    "                \n",
    "            line = []\n",
    "            for j in text[i]:\n",
    "                line.extend(j.split())\n",
    "            \n",
    "            probs = self.get_probs(line)\n",
    "            argmax = 0\n",
    "            for i in range(len(probs)):\n",
    "                if probs[i] > probs[argmax]:\n",
    "                    argmax = i\n",
    "                    \n",
    "            categories.append(list(self.get_categories())[argmax])\n",
    "                \n",
    "        return categories\n",
    "\n",
    "    def score(self, text, labels):\n",
    "        \"\"\"\n",
    "        Возвращает точность предсказаний на text для правильных категорий labels.\n",
    "\n",
    "        Parameters\n",
    "        ----------\n",
    "        text : list of list of str | list of str | str\n",
    "            Входной текст описывается строкой, которую будет токенизирована по пробелу.\n",
    "            Если строка не токенизирована, то текст должен быть токенизирован.\n",
    "            Может быть передано несколько сообщений, которые будут токенезированы, если необходимо.\n",
    "        labels : list of str\n",
    "            Список категорий для каждого токена из text.\n",
    "\n",
    "        Returns\n",
    "        -------\n",
    "        acc : float\n",
    "            Точность предсказания.\n",
    "        \"\"\"\n",
    "        if isinstance(text, str):\n",
    "            text = [text]\n",
    "            \n",
    "        for i in range(len(text)):\n",
    "            if isinstance(text[i], str):\n",
    "                text[i] = [text[i]]\n",
    "                \n",
    "            line = []\n",
    "            for j in text[i]:\n",
    "                line.extend(j.split())\n",
    "                \n",
    "        categories = self.predict(text)        \n",
    "        accurate = np.where(categories == labels)\n",
    "        \n",
    "        return len(accurate[0]) / len(labels)\n",
    "\n",
    "    def get_probs(self, text):\n",
    "        \"\"\"\n",
    "        Считает вероятности принадлежности текста (text) к каждой из категорий\n",
    "\n",
    "        Parameters\n",
    "        ----------\n",
    "        text : list of str | str\n",
    "            Входной текст описывается строкой, которую будет токенизирована по пробелу.\n",
    "            Если строка не токенизирована, то текст должен быть токенизирован.\n",
    "\n",
    "        Returns\n",
    "        -------\n",
    "        probs : list of float\n",
    "            Возвращает вероятности probs всех категорий для текста text\n",
    "            в порядке их следования в self.category_doc_counts.\n",
    "        \"\"\"\n",
    "        if isinstance(text, str):\n",
    "            text = text.split()\n",
    "\n",
    "        return [self.get_category_prob(cat_name, text) for cat_name in self.get_categories()]\n",
    "\n",
    "    def get_category_prob(self, cat, text):\n",
    "        \"\"\"\n",
    "        Считает логарифм вероятность принадлежности сообщения text к категории cat.\n",
    "\n",
    "        Parameters\n",
    "        ----------\n",
    "        cat : str\n",
    "            Название категории.\n",
    "\n",
    "        text : list of str\n",
    "            Список из слов.\n",
    "\n",
    "        Returns\n",
    "        -------\n",
    "        log_prob : float\n",
    "            Возвращает логарифм вероятности категории cat для текста text.\n",
    "        \"\"\"\n",
    "        log_prob = log(self.category_priors[cat])\n",
    "        for word in text:\n",
    "            weighted_prob = self.get_weighted_feature_prob(cat, word)\n",
    "            if weighted_prob == 0:\n",
    "                weighted_prob = self.supposed_prob\n",
    "            log_prob += log(weighted_prob)\n",
    "\n",
    "        return log_prob\n",
    "\n",
    "    def get_weighted_feature_prob(self, cat, feature):\n",
    "        \"\"\"\n",
    "        Вычисляет взвешенную вероятность P(Слово|Категория).\n",
    "\n",
    "        Parameters\n",
    "        ----------\n",
    "        cat : str\n",
    "            Название категории.\n",
    "\n",
    "        feature : str\n",
    "            Слово из текста.\n",
    "\n",
    "        Returns\n",
    "        -------\n",
    "        prob : float\n",
    "            Возвращает взвешенную вероятность слова feature при условии категории cat.\n",
    "        \"\"\"\n",
    "        unweighted_prob = self.feature_category_counts[cat][feature] / self.category_features[cat]\n",
    "        return (self.weight * self.supposed_prob + self.features * unweighted_prob) / (self.weight + self.features)\n",
    "\n",
    "    def get_categories(self):\n",
    "        \"\"\"\n",
    "        Возвращает список названий всех категорий.\n",
    "        Returns\n",
    "        -------\n",
    "        cat_list : list of str\n",
    "        \"\"\"\n",
    "        return self.categories\n",
    "pass\n"
   ]
  },
  {
   "cell_type": "markdown",
   "metadata": {},
   "source": [
    "### Сравните вашу реализацию и реализацию из библиотеки nltk\n",
    "\n",
    "Для использования классификатора из библиотеки не забудьте предподготовить данные. Для подсчета точности этого классификатора можете использовать accuracy_score из метрик sklearn. Для подсчета точности предсказаний вашего классификатора используйте функцию score, которую вы опишете."
   ]
  },
  {
   "cell_type": "code",
   "execution_count": 8,
   "metadata": {},
   "outputs": [
    {
     "name": "stderr",
     "output_type": "stream",
     "text": [
      "100%|████████████████████████████████████████████████████████████████████████████| 2893/2893 [00:00<00:00, 7649.81it/s]\n"
     ]
    }
   ],
   "source": [
    "# Предобработка данных для классификатора nltk, если требуется\n",
    "labels = sheet.values[:, 0]\n",
    "msgs0 = sheet.values[:, 1]\n",
    "words = set()\n",
    "msgs = []\n",
    "msgwords = [set() for i in range(len(msgs0))]\n",
    "for i in tqdm(range(len(msgs0))):\n",
    "    msgs.append(msgs0[i].split())\n",
    "    msgwords[i].update(msgs[i])\n",
    "    words.update(msgs[i])\n",
    "    \n",
    "labels = np.array(labels)\n",
    "msgs = np.array(msgs)"
   ]
  },
  {
   "cell_type": "code",
   "execution_count": 9,
   "metadata": {},
   "outputs": [
    {
     "name": "stderr",
     "output_type": "stream",
     "text": [
      "100%|██████████████████████████████████████████████████████████████████████████████| 2893/2893 [00:59<00:00, 48.48it/s]\n"
     ]
    }
   ],
   "source": [
    "data = []\n",
    "for i in tqdm(range(len(msgs))):\n",
    "    data.append(({word: (word in msgwords[i]) for word in words}, labels[i]))\n",
    "    \n",
    "data = np.array(data)"
   ]
  },
  {
   "cell_type": "code",
   "execution_count": 10,
   "metadata": {},
   "outputs": [
    {
     "name": "stderr",
     "output_type": "stream",
     "text": [
      "100%|███████████████████████████████████████████████████████████████████████████████| 10/10 [1:22:11<00:00, 493.13s/it]\n"
     ]
    }
   ],
   "source": [
    "# Используйте процедуру KFold для проверки качества классификаторов\n",
    "splits = KFold(len(msgs), n_folds=10, shuffle=True)\n",
    "nltk_accs = []\n",
    "for train_index, test_index in tqdm(list(splits)):\n",
    "    x_train, x_test = msgs[train_index], msgs[test_index]\n",
    "    y_train, y_test = labels[train_index], labels[test_index]\n",
    "    \n",
    "    data_train = data[train_index]\n",
    "    data_test = data[test_index, 0]\n",
    "    \n",
    "    nltk_classifier = NBC.train(data_train)\n",
    "    \n",
    "    nltk_pred = nltk_classifier.classify_many(data_test)\n",
    "    \n",
    "    nltk_acc = accuracy_score(nltk_pred, y_test)\n",
    "    \n",
    "    nltk_accs.append(nltk_acc)"
   ]
  },
  {
   "cell_type": "code",
   "execution_count": 11,
   "metadata": {},
   "outputs": [
    {
     "name": "stderr",
     "output_type": "stream",
     "text": [
      "100%|██████████████████████████████████████████████████████████████████████████████████| 10/10 [00:25<00:00,  2.56s/it]\n"
     ]
    }
   ],
   "source": [
    "# Используйте процедуру KFold для проверки качества классификаторов\n",
    "accs = []\n",
    "for train_index, test_index in tqdm(list(splits)):\n",
    "    x_train, x_test = msgs[train_index], msgs[test_index]\n",
    "    y_train, y_test = labels[train_index], labels[test_index]\n",
    "    \n",
    "    data_train = data[train_index]\n",
    "    data_test = data[test_index, 0]\n",
    "    \n",
    "    classifier = NaiveBayes()\n",
    "    classifier.fit(x_train, y_train)\n",
    "    \n",
    "    pred = classifier.predict(x_test)\n",
    "    \n",
    "    acc = accuracy_score(pred, y_test)\n",
    "    \n",
    "    accs.append(acc)"
   ]
  },
  {
   "cell_type": "code",
   "execution_count": 13,
   "metadata": {},
   "outputs": [
    {
     "name": "stdout",
     "output_type": "stream",
     "text": [
      "[0.98620689655172411, 0.97241379310344822, 0.99310344827586206, 0.99307958477508651, 0.98961937716262971, 0.98961937716262971, 0.99307958477508651, 0.97923875432525953, 0.98961937716262971, 0.99307958477508651]\n",
      "[0.97586206896551719, 0.96551724137931039, 0.95862068965517244, 0.94809688581314877, 0.97231833910034604, 0.94809688581314877, 0.96193771626297575, 0.94463667820069208, 0.92387543252595161, 0.96193771626297575]\n"
     ]
    }
   ],
   "source": [
    "print(accs)\n",
    "print(nltk_accs)"
   ]
  },
  {
   "cell_type": "markdown",
   "metadata": {},
   "source": [
    "### Постройте графики размаха для двух классификаторов на одной фигуре.\n",
    "\n",
    "Рекомендуется использовать встроенные функции построения графиков в pandas."
   ]
  },
  {
   "cell_type": "code",
   "execution_count": 16,
   "metadata": {},
   "outputs": [
    {
     "data": {
      "text/plain": [
       "<matplotlib.axes._subplots.AxesSubplot at 0x22e66932240>"
      ]
     },
     "execution_count": 16,
     "metadata": {},
     "output_type": "execute_result"
    },
    {
     "data": {
      "image/png": "[encoded data removed]",
      "text/plain": [
       "<matplotlib.figure.Figure at 0x22e6ea243c8>"
      ]
     },
     "metadata": {},
     "output_type": "display_data"
    }
   ],
   "source": [
    "nltk_box = pd.DataFrame(nltk_accs)\n",
    "box = pd.DataFrame(accs)\n",
    "nltk_box.boxplot()\n",
    "box.boxplot()"
   ]
  },
  {
   "cell_type": "code",
   "execution_count": null,
   "metadata": {
    "collapsed": true
   },
   "outputs": [],
   "source": []
  }
 ],
 "metadata": {
  "kernelspec": {
   "display_name": "Python 3",
   "language": "python",
   "name": "python3"
  },
  "language_info": {
   "codemirror_mode": {
    "name": "ipython",
    "version": 3
   },
   "file_extension": ".py",
   "mimetype": "text/x-python",
   "name": "python",
   "nbconvert_exporter": "python",
   "pygments_lexer": "ipython3",
   "version": "3.6.1"
  }
 },
 "nbformat": 4,
 "nbformat_minor": 2
}
