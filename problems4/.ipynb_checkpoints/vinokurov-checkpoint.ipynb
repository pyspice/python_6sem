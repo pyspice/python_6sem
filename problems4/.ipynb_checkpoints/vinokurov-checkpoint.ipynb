{
 "cells": [
  {
   "cell_type": "markdown",
   "metadata": {},
   "source": [
    "# Задание 4"
   ]
  },
  {
   "cell_type": "markdown",
   "metadata": {},
   "source": [
    "## 1. Декоратор @cached (0.3 балла)"
   ]
  },
  {
   "cell_type": "markdown",
   "metadata": {},
   "source": [
    "#### Реализуйте класс для хранения результатов выполнения функции\n",
    "\n",
    "* max_count - максимальное число хранимых результатов. Если число результатов превышает max_count, требуется выбросить первый результат, т. е. в кеше должно храниться не более max_count последних результатов.\n",
    "* продумайте архитектуру кеша так, чтобы для функций:\n",
    "\n",
    "<code>\n",
    "@cached\n",
    "def f1():\n",
    "    pass\n",
    "\n",
    "@cached\n",
    "def f2():\n",
    "    pass\n",
    "</code>    \n",
    "должны иметь по max_count хранимых последних результатов, и т. д.\n",
    "\n",
    "<b>P. S.</b>\n",
    "\n",
    "* Считайте, что функция не имеет состояния (зависит только от передаваемых в нее аргументов).\n",
    "* Храните данные так, чтобы из функции нельзя напрямую было получить закешированные результаты (только через \\_\\_closer\\_\\_).\n",
    "\n",
    "<b>Рекомендации:</b>\n",
    "\n",
    "* Для хранения данных используйте OrderedDict.\n",
    "* Декорируйте wrapper с @functools.wraps(func)"
   ]
  },
  {
   "cell_type": "code",
   "execution_count": 24,
   "metadata": {
    "collapsed": true
   },
   "outputs": [],
   "source": [
    "import functools\n",
    "from collections import OrderedDict"
   ]
  },
  {
   "cell_type": "code",
   "execution_count": 27,
   "metadata": {
    "collapsed": true
   },
   "outputs": [],
   "source": [
    "class LruCache(object):\n",
    "    def __init__(self, max_count):\n",
    "        self.max_count = max_count\n",
    "        self.items = OrderedDict()\n",
    "\n",
    "    def __getitem__(self, key):\n",
    "        return self.items[key]\n",
    "\n",
    "    def __setitem__(self, key, value):\n",
    "        if len(self.items) == self.max_count:\n",
    "            self.items.popitem(last=False)\n",
    "        self.items[key] = value\n",
    "        \n",
    "    def keys(self):\n",
    "        return self.items.keys()"
   ]
  },
  {
   "cell_type": "markdown",
   "metadata": {},
   "source": [
    "#### Реализуйте декоратор"
   ]
  },
  {
   "cell_type": "code",
   "execution_count": 3,
   "metadata": {
    "collapsed": true
   },
   "outputs": [],
   "source": [
    "def cached(max_count):\n",
    "    \n",
    "    def cache(func):\n",
    "        \n",
    "        @functools.wraps(func)\n",
    "        def wrapper(*args, **kwargs):\n",
    "            nonlocal cache_\n",
    "            \n",
    "            key = args + tuple(kwargs.items())\n",
    "            if key not in cache_.keys():\n",
    "                cache_[key] = func(*args, **kwargs)\n",
    "            \n",
    "            return cache_[key]\n",
    "        \n",
    "        cache_ = LruCache(max_count)\n",
    "        \n",
    "        return wrapper\n",
    "    \n",
    "    return cache"
   ]
  },
  {
   "cell_type": "markdown",
   "metadata": {},
   "source": [
    "#### Проверьте использование декоратора"
   ]
  },
  {
   "cell_type": "code",
   "execution_count": 4,
   "metadata": {
    "collapsed": true
   },
   "outputs": [],
   "source": [
    "@cached(20)\n",
    "def fact(n):\n",
    "    if n < 2:\n",
    "        return 1\n",
    "    return fact(n-1) * n\n",
    "\n",
    "@cached(20)\n",
    "def fact1(n):\n",
    "    if n < 2:\n",
    "        return 1\n",
    "    return fact1(n-1) * n"
   ]
  },
  {
   "cell_type": "code",
   "execution_count": 5,
   "metadata": {},
   "outputs": [
    {
     "name": "stdout",
     "output_type": "stream",
     "text": [
      "93326215443944152681699238856266700490715968264381621468592963895217599993229915608941463976156518286253697920827223758251185210916864000000000000000000000000\n",
      "Wall time: 0 ns\n",
      "93326215443944152681699238856266700490715968264381621468592963895217599993229915608941463976156518286253697920827223758251185210916864000000000000000000000000\n",
      "Wall time: 2.84 ms\n"
     ]
    }
   ],
   "source": [
    "%time print(fact1(100))\n",
    "%time print(fact(100))"
   ]
  },
  {
   "cell_type": "markdown",
   "metadata": {},
   "source": [
    "Факториал - не самая удачная функция для проверки работы в рекурсии (стек переполняется слишком быстро). Наиболее показательная, но не самая удобопредставимая - функция Аккермана. Возьмем старую добрую последовательность Фибоначчи:"
   ]
  },
  {
   "cell_type": "code",
   "execution_count": 6,
   "metadata": {
    "collapsed": true
   },
   "outputs": [],
   "source": [
    "@cached(20)\n",
    "def fib20(n):\n",
    "    if n < 3:\n",
    "        return 1\n",
    "    else:\n",
    "        return fib20(n - 1) + fib20(n - 2)\n",
    "\n",
    "@cached(2)\n",
    "def fib2(n):\n",
    "    if n < 3:\n",
    "        return 1\n",
    "    else:\n",
    "        return fib2(n - 1) + fib2(n - 2)\n",
    "    \n",
    "@cached(2)\n",
    "def fib2t(n):\n",
    "    if n < 3:\n",
    "        return 1\n",
    "    else:\n",
    "        return fib2t(n - 1) + fib2t(n - 2)\n",
    "    \n",
    "@cached(3)\n",
    "def fib3(n):\n",
    "    if n < 3:\n",
    "        return 1\n",
    "    else:\n",
    "        return fib3(n - 1) + fib3(n - 2)"
   ]
  },
  {
   "cell_type": "code",
   "execution_count": 7,
   "metadata": {},
   "outputs": [
    {
     "name": "stdout",
     "output_type": "stream",
     "text": [
      "102334155\n",
      "Wall time: 0 ns\n",
      "102334155\n",
      "Wall time: 2.21 s\n",
      "102334155\n",
      "Wall time: 2.04 s\n",
      "102334155\n",
      "Wall time: 0 ns\n"
     ]
    }
   ],
   "source": [
    "%time print(fib20(40))\n",
    "%time print(fib2(40))\n",
    "%time print(fib2t(40))\n",
    "%time print(fib3(40))"
   ]
  },
  {
   "cell_type": "markdown",
   "metadata": {},
   "source": [
    "Как видно, кэши функций действительно разные, причем запоминание 3-х последних результатов дает неимоверное ускорение по сравнению с двумя элементами в кэше. Пример с fib2 и fib2t показывает, что кэши разных функций разные."
   ]
  },
  {
   "cell_type": "markdown",
   "metadata": {},
   "source": [
    "#### Сравните свою реализацию с lru_cache из functools"
   ]
  },
  {
   "cell_type": "code",
   "execution_count": 8,
   "metadata": {
    "collapsed": true
   },
   "outputs": [],
   "source": [
    "@functools.lru_cache(maxsize=20)\n",
    "def ft_fib20(n):\n",
    "    if n < 3:\n",
    "        return 1\n",
    "    else:\n",
    "        return ft_fib20(n - 1) + ft_fib20(n - 2)\n",
    "\n",
    "@functools.lru_cache(maxsize=2)\n",
    "def ft_fib2(n):\n",
    "    if n < 3:\n",
    "        return 1\n",
    "    else:\n",
    "        return ft_fib2(n - 1) + ft_fib2(n - 2)\n",
    "    \n",
    "@functools.lru_cache(maxsize=3)\n",
    "def ft_fib3(n):\n",
    "    if n < 3:\n",
    "        return 1\n",
    "    else:\n",
    "        return ft_fib3(n - 1) + ft_fib3(n - 2)"
   ]
  },
  {
   "cell_type": "code",
   "execution_count": 9,
   "metadata": {},
   "outputs": [
    {
     "name": "stdout",
     "output_type": "stream",
     "text": [
      "102334155\n",
      "Wall time: 1.01 ms\n",
      "102334155\n",
      "Wall time: 393 ms\n",
      "102334155\n",
      "Wall time: 0 ns\n"
     ]
    }
   ],
   "source": [
    "%time print(ft_fib20(40))\n",
    "%time print(ft_fib2(40))\n",
    "%time print(ft_fib3(40))"
   ]
  },
  {
   "cell_type": "markdown",
   "metadata": {},
   "source": [
    "Встроенный класс работает шустрее, скорее всего, из-за особенностей реализации, нам пока неизвестных."
   ]
  },
  {
   "cell_type": "markdown",
   "metadata": {},
   "source": [
    "### Дополнительное задание (0.2 балла)\n",
    "\n",
    "Дополните декоратор @cached так, чтобы не пересчитывать функцию при изменения ее состояния (например, она использовала глобальную переменную)"
   ]
  },
  {
   "cell_type": "code",
   "execution_count": 50,
   "metadata": {},
   "outputs": [],
   "source": [
    "def cached_state(max_count):\n",
    "    \n",
    "    def cache(func):\n",
    "        \n",
    "        @functools.wraps(func)\n",
    "        def wrapper(*args, **kwargs):\n",
    "            nonlocal cache_\n",
    "            \n",
    "            \n",
    "            key = args + tuple(kwargs.items()) + tuple((i, f.__globals__[i]) for i in func.__code__.co_names)\n",
    "            if key not in cache_.keys():\n",
    "                cache_[key] = func(*args, **kwargs)\n",
    "            \n",
    "            return cache_[key]\n",
    "        \n",
    "        cache_ = LruCache(max_count)\n",
    "        \n",
    "        return wrapper\n",
    "    \n",
    "    return cache"
   ]
  },
  {
   "cell_type": "code",
   "execution_count": 51,
   "metadata": {},
   "outputs": [
    {
     "name": "stdout",
     "output_type": "stream",
     "text": [
      "10\n",
      "20\n"
     ]
    }
   ],
   "source": [
    "@cached_state(2)\n",
    "def f():\n",
    "    return n\n",
    "\n",
    "n = 10\n",
    "print(f())\n",
    "n = 20\n",
    "print(f())\n",
    "    "
   ]
  },
  {
   "cell_type": "markdown",
   "metadata": {},
   "source": [
    "Как видно, мы избавились от необходимости использовать абсолютно весь словарь глобальных переменных, ограничиваясь лишь теми переменными, которые функция непосредственно использует."
   ]
  },
  {
   "cell_type": "markdown",
   "metadata": {
    "collapsed": true
   },
   "source": [
    "## 2. Декоратор @checked (0.3 балла)\n",
    "\n",
    "Напишите декоратор, который будет вызывать исключение (raise TypeError), если в него переданы аргументы не тех типов.\n",
    "\n",
    "<b>P. S.</b> Разберитесь с модулем typing.\n",
    "\n",
    "<b>Рекомендации:</b>\n",
    "\n",
    "* Декорируйте wrapper с @functools.wraps(func)\n",
    "* Чтобы кинуть иключение используйте конструкцию типа:\n",
    "<code>\n",
    "if < some_condtion >:\n",
    "    raise TypeError\n",
    "</code>"
   ]
  },
  {
   "cell_type": "code",
   "execution_count": 11,
   "metadata": {
    "collapsed": true
   },
   "outputs": [],
   "source": [
    "def checked(*types, **kwtypes):\n",
    "    \n",
    "    def check(func):\n",
    "        \n",
    "        @functools.wraps(func)\n",
    "        def wrapper(*args, **kwargs):\n",
    "            if len(args) != len(types):\n",
    "                raise TypeError('number of positional arguments differs from those to check')\n",
    "                \n",
    "            if kwargs.keys() != kwtypes.keys():\n",
    "                raise TypeError(\"names of keyword arguments doesn't match the given annotation\")\n",
    "            \n",
    "            for i in range(len(args)):\n",
    "                if not isinstance(args[i], types[i]):\n",
    "                    raise TypeError(\"{}-th positional argument got type '{}', '{}' expected\".format(i, type(args[i]).__name__, types[i].__name__))\n",
    "            \n",
    "            for key in kwargs:\n",
    "                if not isinstance(kwargs[key], kwtypes[key]):\n",
    "                    raise TypeError(\"'{}' got type '{}', '{}' expected\".format(key, type(kwargs[key]).__name__, kwtypes[key].__name__))\n",
    "            \n",
    "        return wrapper\n",
    "    \n",
    "    return check"
   ]
  },
  {
   "cell_type": "markdown",
   "metadata": {},
   "source": [
    "# Обратите внимание:\n",
    "Функция isinstance вместо type использована намеренно, для возможности поддержки наследования."
   ]
  },
  {
   "cell_type": "markdown",
   "metadata": {},
   "source": [
    "#### Проверьте использование декоратора"
   ]
  },
  {
   "cell_type": "code",
   "execution_count": 12,
   "metadata": {
    "collapsed": true
   },
   "outputs": [],
   "source": [
    "from typing import List\n",
    "\n",
    "# Пример\n",
    "@checked(str, int, list)\n",
    "def strange_func(a: str, b: int, c: List):\n",
    "    pass"
   ]
  },
  {
   "cell_type": "code",
   "execution_count": 13,
   "metadata": {},
   "outputs": [
    {
     "ename": "TypeError",
     "evalue": "number of positional arguments differs from those to check",
     "output_type": "error",
     "traceback": [
      "\u001b[1;31m---------------------------------------------------------------------------\u001b[0m",
      "\u001b[1;31mTypeError\u001b[0m                                 Traceback (most recent call last)",
      "\u001b[1;32m<ipython-input-13-0a663ad1dfbe>\u001b[0m in \u001b[0;36m<module>\u001b[1;34m()\u001b[0m\n\u001b[0;32m      1\u001b[0m \u001b[0mstrange_func\u001b[0m\u001b[1;33m(\u001b[0m\u001b[1;34m'abacaba'\u001b[0m\u001b[1;33m,\u001b[0m \u001b[1;36m2\u001b[0m\u001b[1;33m,\u001b[0m \u001b[1;33m[\u001b[0m\u001b[1;36m1\u001b[0m\u001b[1;33m,\u001b[0m \u001b[1;36m2\u001b[0m\u001b[1;33m,\u001b[0m \u001b[1;33m{\u001b[0m\u001b[1;36m1\u001b[0m\u001b[1;33m:\u001b[0m \u001b[1;36m3\u001b[0m\u001b[1;33m,\u001b[0m \u001b[1;36m2\u001b[0m\u001b[1;33m:\u001b[0m \u001b[1;36m4\u001b[0m\u001b[1;33m}\u001b[0m\u001b[1;33m]\u001b[0m\u001b[1;33m)\u001b[0m\u001b[1;33m\u001b[0m\u001b[0m\n\u001b[1;32m----> 2\u001b[1;33m \u001b[0mstrange_func\u001b[0m\u001b[1;33m(\u001b[0m\u001b[1;36m2\u001b[0m\u001b[1;33m)\u001b[0m\u001b[1;33m\u001b[0m\u001b[0m\n\u001b[0m",
      "\u001b[1;32m<ipython-input-11-ab4aa6aa6bbf>\u001b[0m in \u001b[0;36mwrapper\u001b[1;34m(*args, **kwargs)\u001b[0m\n\u001b[0;32m      6\u001b[0m         \u001b[1;32mdef\u001b[0m \u001b[0mwrapper\u001b[0m\u001b[1;33m(\u001b[0m\u001b[1;33m*\u001b[0m\u001b[0margs\u001b[0m\u001b[1;33m,\u001b[0m \u001b[1;33m**\u001b[0m\u001b[0mkwargs\u001b[0m\u001b[1;33m)\u001b[0m\u001b[1;33m:\u001b[0m\u001b[1;33m\u001b[0m\u001b[0m\n\u001b[0;32m      7\u001b[0m             \u001b[1;32mif\u001b[0m \u001b[0mlen\u001b[0m\u001b[1;33m(\u001b[0m\u001b[0margs\u001b[0m\u001b[1;33m)\u001b[0m \u001b[1;33m!=\u001b[0m \u001b[0mlen\u001b[0m\u001b[1;33m(\u001b[0m\u001b[0mtypes\u001b[0m\u001b[1;33m)\u001b[0m\u001b[1;33m:\u001b[0m\u001b[1;33m\u001b[0m\u001b[0m\n\u001b[1;32m----> 8\u001b[1;33m                 \u001b[1;32mraise\u001b[0m \u001b[0mTypeError\u001b[0m\u001b[1;33m(\u001b[0m\u001b[1;34m'number of positional arguments differs from those to check'\u001b[0m\u001b[1;33m)\u001b[0m\u001b[1;33m\u001b[0m\u001b[0m\n\u001b[0m\u001b[0;32m      9\u001b[0m \u001b[1;33m\u001b[0m\u001b[0m\n\u001b[0;32m     10\u001b[0m             \u001b[1;32mif\u001b[0m \u001b[0mkwargs\u001b[0m\u001b[1;33m.\u001b[0m\u001b[0mkeys\u001b[0m\u001b[1;33m(\u001b[0m\u001b[1;33m)\u001b[0m \u001b[1;33m!=\u001b[0m \u001b[0mkwtypes\u001b[0m\u001b[1;33m.\u001b[0m\u001b[0mkeys\u001b[0m\u001b[1;33m(\u001b[0m\u001b[1;33m)\u001b[0m\u001b[1;33m:\u001b[0m\u001b[1;33m\u001b[0m\u001b[0m\n",
      "\u001b[1;31mTypeError\u001b[0m: number of positional arguments differs from those to check"
     ]
    }
   ],
   "source": [
    "strange_func('abacaba', 2, [1, 2, {1: 3, 2: 4}])\n",
    "strange_func(2)"
   ]
  },
  {
   "cell_type": "code",
   "execution_count": 14,
   "metadata": {},
   "outputs": [
    {
     "ename": "TypeError",
     "evalue": "0-th positional argument got type 'int', 'str' expected",
     "output_type": "error",
     "traceback": [
      "\u001b[1;31m---------------------------------------------------------------------------\u001b[0m",
      "\u001b[1;31mTypeError\u001b[0m                                 Traceback (most recent call last)",
      "\u001b[1;32m<ipython-input-14-76d38a6bb69b>\u001b[0m in \u001b[0;36m<module>\u001b[1;34m()\u001b[0m\n\u001b[1;32m----> 1\u001b[1;33m \u001b[0mstrange_func\u001b[0m\u001b[1;33m(\u001b[0m\u001b[1;36m2\u001b[0m\u001b[1;33m,\u001b[0m \u001b[1;36m3\u001b[0m\u001b[1;33m,\u001b[0m \u001b[1;36m4\u001b[0m\u001b[1;33m)\u001b[0m\u001b[1;33m\u001b[0m\u001b[0m\n\u001b[0m",
      "\u001b[1;32m<ipython-input-11-ab4aa6aa6bbf>\u001b[0m in \u001b[0;36mwrapper\u001b[1;34m(*args, **kwargs)\u001b[0m\n\u001b[0;32m     13\u001b[0m             \u001b[1;32mfor\u001b[0m \u001b[0mi\u001b[0m \u001b[1;32min\u001b[0m \u001b[0mrange\u001b[0m\u001b[1;33m(\u001b[0m\u001b[0mlen\u001b[0m\u001b[1;33m(\u001b[0m\u001b[0margs\u001b[0m\u001b[1;33m)\u001b[0m\u001b[1;33m)\u001b[0m\u001b[1;33m:\u001b[0m\u001b[1;33m\u001b[0m\u001b[0m\n\u001b[0;32m     14\u001b[0m                 \u001b[1;32mif\u001b[0m \u001b[1;32mnot\u001b[0m \u001b[0misinstance\u001b[0m\u001b[1;33m(\u001b[0m\u001b[0margs\u001b[0m\u001b[1;33m[\u001b[0m\u001b[0mi\u001b[0m\u001b[1;33m]\u001b[0m\u001b[1;33m,\u001b[0m \u001b[0mtypes\u001b[0m\u001b[1;33m[\u001b[0m\u001b[0mi\u001b[0m\u001b[1;33m]\u001b[0m\u001b[1;33m)\u001b[0m\u001b[1;33m:\u001b[0m\u001b[1;33m\u001b[0m\u001b[0m\n\u001b[1;32m---> 15\u001b[1;33m                     \u001b[1;32mraise\u001b[0m \u001b[0mTypeError\u001b[0m\u001b[1;33m(\u001b[0m\u001b[1;34m\"{}-th positional argument got type '{}', '{}' expected\"\u001b[0m\u001b[1;33m.\u001b[0m\u001b[0mformat\u001b[0m\u001b[1;33m(\u001b[0m\u001b[0mi\u001b[0m\u001b[1;33m,\u001b[0m \u001b[0mtype\u001b[0m\u001b[1;33m(\u001b[0m\u001b[0margs\u001b[0m\u001b[1;33m[\u001b[0m\u001b[0mi\u001b[0m\u001b[1;33m]\u001b[0m\u001b[1;33m)\u001b[0m\u001b[1;33m.\u001b[0m\u001b[0m__name__\u001b[0m\u001b[1;33m,\u001b[0m \u001b[0mtypes\u001b[0m\u001b[1;33m[\u001b[0m\u001b[0mi\u001b[0m\u001b[1;33m]\u001b[0m\u001b[1;33m.\u001b[0m\u001b[0m__name__\u001b[0m\u001b[1;33m)\u001b[0m\u001b[1;33m)\u001b[0m\u001b[1;33m\u001b[0m\u001b[0m\n\u001b[0m\u001b[0;32m     16\u001b[0m \u001b[1;33m\u001b[0m\u001b[0m\n\u001b[0;32m     17\u001b[0m             \u001b[1;32mfor\u001b[0m \u001b[0mkey\u001b[0m \u001b[1;32min\u001b[0m \u001b[0mkwargs\u001b[0m\u001b[1;33m:\u001b[0m\u001b[1;33m\u001b[0m\u001b[0m\n",
      "\u001b[1;31mTypeError\u001b[0m: 0-th positional argument got type 'int', 'str' expected"
     ]
    }
   ],
   "source": [
    "strange_func(2, 3, 4)"
   ]
  },
  {
   "cell_type": "markdown",
   "metadata": {},
   "source": [
    "## 3. Декоратор @Logger (0.4 балла)\n",
    "\n",
    "Напишите полноценный logger для вызовов вашей функции. Декоратор должен иметь следующие опции:\n",
    "\n",
    "* Выбор файла в который будет производиться запись: sys.stdout, sys.stderr, локальный файл (передается путь к файлу, если файла нет, то создать, иначе дописывать в конец).\n",
    "* Формат записи в логера: \"<i>index data time functio_name \\*args \\**kwargs result</i>\"\n",
    "* Логер должен быть один для всех функций.\n",
    "\n",
    "<b>Рекомендации:</b>\n",
    "\n",
    "* Декорируйте wrapper с @functools.wraps(func)\n",
    "* Создайте отдельный класс Logger для работы с выводом данных вызовов функций в файл."
   ]
  },
  {
   "cell_type": "code",
   "execution_count": 50,
   "metadata": {
    "collapsed": true
   },
   "outputs": [],
   "source": [
    "import sys\n",
    "from time import gmtime, strftime"
   ]
  },
  {
   "cell_type": "code",
   "execution_count": 51,
   "metadata": {
    "collapsed": true
   },
   "outputs": [],
   "source": [
    "class Singleton(type):\n",
    "    _instances = {}\n",
    "    def __call__(cls, *args, **kwargs):\n",
    "        if cls not in cls._instances:\n",
    "            cls._instances[cls] = super(Singleton, cls).__call__(*args, **kwargs)\n",
    "        return cls._instances[cls]\n",
    "\n",
    "class Logger(metaclass=Singleton):\n",
    "    \n",
    "    def __init__(self, fout=sys.stdout):\n",
    "        if isinstance(fout, str):\n",
    "            fout = open(fout, 'a')\n",
    "        elif not fout in {sys.stdout, sys.stderr}:\n",
    "            raise TypeError('data type for output stream not understood')\n",
    "        \n",
    "        self.fout = fout\n",
    "        self.buffer = []\n",
    "        self.index = 0\n",
    "        \n",
    "    def add_line(self, line):\n",
    "        self.buffer.append([len(self.buffer), str(self.index) + ' ' + line, None])\n",
    "        self.index += 1\n",
    "    \n",
    "    def add_res(self, index, res):\n",
    "        self.buffer[index][2] = res\n",
    "        if self.buffer[index][0] == 0:\n",
    "            for i in range(len(self.buffer)):\n",
    "                print(self.buffer[i][1], self.buffer[i][2], file=self.fout)\n",
    "            self.buffer.clear()"
   ]
  },
  {
   "cell_type": "code",
   "execution_count": 52,
   "metadata": {
    "collapsed": true
   },
   "outputs": [],
   "source": [
    "def logger(fout=sys.stdout):\n",
    "    \n",
    "    def log(func):\n",
    "        \n",
    "        @functools.wraps(func)\n",
    "        def wrapper(*args, **kwargs):\n",
    "            nonlocal Log\n",
    "            \n",
    "            index = len(Log.buffer)\n",
    "            Log.add_line(' '.join([strftime(\"%Y-%m-%d %H:%M:%S\", gmtime()), func.__name__, str(args), str(kwargs)]))\n",
    "            \n",
    "            retval = func(*args, **kwargs)\n",
    "            Log.add_res(index, retval)\n",
    "                         \n",
    "            return retval\n",
    "            \n",
    "        return wrapper\n",
    "    \n",
    "    Log = Logger(fout=fout)\n",
    "    \n",
    "    return log"
   ]
  },
  {
   "cell_type": "code",
   "execution_count": 53,
   "metadata": {
    "collapsed": true
   },
   "outputs": [],
   "source": [
    "@logger()\n",
    "def f(x):\n",
    "    return x ** 2"
   ]
  },
  {
   "cell_type": "code",
   "execution_count": 54,
   "metadata": {},
   "outputs": [
    {
     "name": "stdout",
     "output_type": "stream",
     "text": [
      "0 2018-03-29 20:00:43 f (0,) {} 0\n",
      "1 2018-03-29 20:00:43 f (1,) {} 1\n",
      "2 2018-03-29 20:00:43 f (2,) {} 4\n",
      "3 2018-03-29 20:00:43 f (3,) {} 9\n",
      "4 2018-03-29 20:00:43 f (4,) {} 16\n",
      "5 2018-03-29 20:00:43 f (5,) {} 25\n",
      "6 2018-03-29 20:00:43 f (6,) {} 36\n",
      "7 2018-03-29 20:00:43 f (7,) {} 49\n",
      "8 2018-03-29 20:00:43 f (8,) {} 64\n",
      "9 2018-03-29 20:00:43 f (9,) {} 81\n"
     ]
    }
   ],
   "source": [
    "for i in range(10):\n",
    "    a = f(i)"
   ]
  },
  {
   "cell_type": "code",
   "execution_count": 55,
   "metadata": {},
   "outputs": [
    {
     "data": {
      "text/plain": [
       "True"
      ]
     },
     "execution_count": 55,
     "metadata": {},
     "output_type": "execute_result"
    }
   ],
   "source": [
    "a = Logger()\n",
    "b = Logger()\n",
    "a is b"
   ]
  },
  {
   "cell_type": "code",
   "execution_count": 56,
   "metadata": {
    "collapsed": true
   },
   "outputs": [],
   "source": [
    "@logger()\n",
    "def fib(x):\n",
    "    if x < 3:\n",
    "        return 1\n",
    "    else:\n",
    "        return fib(x - 1) + fib(x - 2)"
   ]
  },
  {
   "cell_type": "code",
   "execution_count": 57,
   "metadata": {},
   "outputs": [
    {
     "name": "stdout",
     "output_type": "stream",
     "text": [
      "10 2018-03-29 20:00:49 fib (6,) {} 8\n",
      "11 2018-03-29 20:00:49 fib (5,) {} 5\n",
      "12 2018-03-29 20:00:49 fib (4,) {} 3\n",
      "13 2018-03-29 20:00:49 fib (3,) {} 2\n",
      "14 2018-03-29 20:00:49 fib (2,) {} 1\n",
      "15 2018-03-29 20:00:49 fib (1,) {} 1\n",
      "16 2018-03-29 20:00:49 fib (2,) {} 1\n",
      "17 2018-03-29 20:00:49 fib (3,) {} 2\n",
      "18 2018-03-29 20:00:49 fib (2,) {} 1\n",
      "19 2018-03-29 20:00:49 fib (1,) {} 1\n",
      "20 2018-03-29 20:00:49 fib (4,) {} 3\n",
      "21 2018-03-29 20:00:49 fib (3,) {} 2\n",
      "22 2018-03-29 20:00:49 fib (2,) {} 1\n",
      "23 2018-03-29 20:00:49 fib (1,) {} 1\n",
      "24 2018-03-29 20:00:49 fib (2,) {} 1\n"
     ]
    },
    {
     "data": {
      "text/plain": [
       "8"
      ]
     },
     "execution_count": 57,
     "metadata": {},
     "output_type": "execute_result"
    }
   ],
   "source": [
    "fib(6)"
   ]
  },
  {
   "cell_type": "markdown",
   "metadata": {},
   "source": [
    "Как видно, получился логгер, целиком и полностью удовлетворяющий всем трем условиям домашнего задания, при этом умеющий корректно работать с рекурсивными функциями."
   ]
  }
 ],
 "metadata": {
  "kernelspec": {
   "display_name": "Python 3",
   "language": "python",
   "name": "python3"
  },
  "language_info": {
   "codemirror_mode": {
    "name": "ipython",
    "version": 3
   },
   "file_extension": ".py",
   "mimetype": "text/x-python",
   "name": "python",
   "nbconvert_exporter": "python",
   "pygments_lexer": "ipython3",
   "version": "3.6.1"
  }
 },
 "nbformat": 4,
 "nbformat_minor": 2
}
