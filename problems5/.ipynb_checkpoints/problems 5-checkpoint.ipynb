{
 "cells": [
  {
   "cell_type": "markdown",
   "metadata": {},
   "source": [
    "# Задание 5"
   ]
  },
  {
   "cell_type": "markdown",
   "metadata": {},
   "source": [
    "## 1. ContextTimer(0.3 балла)\n",
    "Напишите менеджер контекста, который позволит засекать время выполнения блока кода с помощью конструкции with и выводить это время на экран по выходу из блока. Пример использования:\n",
    "\n",
    "<code>\n",
    "with Timer ():\n",
    "    do_some_long_stuff()\n",
    "</code>\n",
    "\n",
    "Рекомендации: используйте стандартную библиотеку для работы со временем.\n",
    "\n",
    "Протестируйте себя."
   ]
  },
  {
   "cell_type": "code",
   "execution_count": 44,
   "metadata": {
    "collapsed": true
   },
   "outputs": [],
   "source": [
    "import time\n",
    "\n",
    "class Timer:        \n",
    "    \n",
    "    scaling = [(1e-9, 1, 's'), (1e-6, 1e9, 'ns'), (1e-3, 1e6, u'\\u03BCs'), (1, 1e3, 'ms')]\n",
    "    \n",
    "    def __enter__(self):\n",
    "        self.start = time.time()\n",
    "        \n",
    "    def __exit__(self, *args):\n",
    "        print(args)\n",
    "        stop = time.time()\n",
    "        elapsed = stop - self.start\n",
    "        \n",
    "        if elapsed < 1:\n",
    "            for scale, mult, unit in Timer.scaling:\n",
    "                if elapsed < scale:\n",
    "                    break\n",
    "                    \n",
    "            stime = '{} {}'.format(round(elapsed * mult), unit)\n",
    "            \n",
    "        elif elapsed < 60:\n",
    "            stime = '{} s'.format(round(elapsed, 3))\n",
    "            \n",
    "        else:\n",
    "            elapsed = round(elapsed)\n",
    "            h = elapsed // 3600\n",
    "            m = elapsed % 3600\n",
    "            s = elapsed % 60\n",
    "            \n",
    "            if elapsed < 3600:\n",
    "                stime = '{} m {} s'.format(m, s)\n",
    "            else:\n",
    "                stime = '{} h {} m {} s'.format(h, m, s)\n",
    "                \n",
    "        print(stime)"
   ]
  },
  {
   "cell_type": "code",
   "execution_count": 57,
   "metadata": {
    "collapsed": true
   },
   "outputs": [],
   "source": [
    "def fib(n):\n",
    "    if n < 3:\n",
    "        return 1\n",
    "    else:\n",
    "        return fib(n - 1) + fib(n - 2)"
   ]
  },
  {
   "cell_type": "code",
   "execution_count": 68,
   "metadata": {},
   "outputs": [
    {
     "name": "stdout",
     "output_type": "stream",
     "text": [
      "3524578\n",
      "1.231 s\n"
     ]
    }
   ],
   "source": [
    "with Timer():\n",
    "    print(fib(33))"
   ]
  },
  {
   "cell_type": "markdown",
   "metadata": {},
   "source": [
    "## 2.Transaction (0.4 балла)\n",
    "Вам необходимо написать менеджер контекстов, который позволит безопасно работать с транзакциями. Напишите класс Storage, в котором будут храниться какие-то данные в виде словаря. Эти данные должны быть закрытыми и их можно только читать через операцию []. У этого класса должен быть метод edit, который возвращает менеджер контекста, позволяющий редактировать исходный объект (опять же через []). При этом результаты редактирования записываются в исходный объект только если весь блок выполнился успешно. Пример использования:\n",
    "\n",
    "<code>\n",
    "s = Storage()\n",
    "with s.edit() as se :\n",
    "    se[\"a\"] = 1\n",
    "    may_be_an_exception_here()\n",
    "</code>\n",
    "\n",
    "Протестируйте себя."
   ]
  },
  {
   "cell_type": "code",
   "execution_count": 59,
   "metadata": {
    "collapsed": true
   },
   "outputs": [],
   "source": [
    "class Storage:\n",
    "    \n",
    "    class __Lock:\n",
    "        \n",
    "        def __init__(self, parent):\n",
    "            self.__parent = parent\n",
    "            self.__lock = True\n",
    "            self.__buffer = []\n",
    "        \n",
    "        def __enter__(self):\n",
    "            self.__lock = False\n",
    "        \n",
    "        def __exit__(self, *args):            \n",
    "            if all(map(lambda x: x is None, args)):\n",
    "                for key, value in self.__buffer:\n",
    "                    self.__parent[key] = value\n",
    "            else:\n",
    "                print('Transaction failed')\n",
    "                \n",
    "            self.__buffer.clear()\n",
    "            \n",
    "            self.__lock = True\n",
    "            \n",
    "        def __getitem__(self, key):\n",
    "            return self.__parent[key]\n",
    "        \n",
    "        def __setitem__(self, key, value):\n",
    "            self.__buffer.append((key, value))\n",
    "            \n",
    "        def __bool__(self):\n",
    "            return self.__lock\n",
    "    \n",
    "    \n",
    "    def __init__(self, *args, **kwargs):\n",
    "        self.__args = args\n",
    "        self.__kwargs = kwargs  \n",
    "        self.__lock = Storage.__Lock(self)\n",
    "        \n",
    "    def __getitem__(self, key):\n",
    "        if isinstance(key, int):\n",
    "            return self.__args[key]\n",
    "        elif isinstance(key, str):\n",
    "            return self.__kwargs[key]\n",
    "        else:\n",
    "            raise TypeError('data type for keyword not understood')\n",
    "    \n",
    "    def __setitem__(self, key, value):\n",
    "        if self.__lock:\n",
    "            raise AttributeError('set operation on locked object')\n",
    "        \n",
    "        if isinstance(key, int):\n",
    "            self.__args[key] = value\n",
    "        elif isinstance(key, str):\n",
    "            self.__kwargs[key] = value\n",
    "        else:\n",
    "            raise TypeError('data type for keyword not understood')\n",
    "        \n",
    "    def edit(self):\n",
    "        return self.__lock"
   ]
  },
  {
   "cell_type": "code",
   "execution_count": 52,
   "metadata": {
    "collapsed": true
   },
   "outputs": [],
   "source": [
    "s = Storage(a=2)"
   ]
  },
  {
   "cell_type": "code",
   "execution_count": 53,
   "metadata": {},
   "outputs": [
    {
     "name": "stdout",
     "output_type": "stream",
     "text": [
      "2\n"
     ]
    }
   ],
   "source": [
    "print(s['a'])"
   ]
  },
  {
   "cell_type": "code",
   "execution_count": 54,
   "metadata": {},
   "outputs": [
    {
     "ename": "AttributeError",
     "evalue": "set operation on locked object",
     "output_type": "error",
     "traceback": [
      "\u001b[1;31m---------------------------------------------------------------------------\u001b[0m",
      "\u001b[1;31mAttributeError\u001b[0m                            Traceback (most recent call last)",
      "\u001b[1;32m<ipython-input-54-4a6a487dfcbe>\u001b[0m in \u001b[0;36m<module>\u001b[1;34m()\u001b[0m\n\u001b[1;32m----> 1\u001b[1;33m \u001b[0ms\u001b[0m\u001b[1;33m[\u001b[0m\u001b[1;34m'a'\u001b[0m\u001b[1;33m]\u001b[0m \u001b[1;33m=\u001b[0m \u001b[1;36m3\u001b[0m\u001b[1;33m\u001b[0m\u001b[0m\n\u001b[0m",
      "\u001b[1;32m<ipython-input-51-0c79aef1fe5d>\u001b[0m in \u001b[0;36m__setitem__\u001b[1;34m(self, key, value)\u001b[0m\n\u001b[0;32m     45\u001b[0m     \u001b[1;32mdef\u001b[0m \u001b[0m__setitem__\u001b[0m\u001b[1;33m(\u001b[0m\u001b[0mself\u001b[0m\u001b[1;33m,\u001b[0m \u001b[0mkey\u001b[0m\u001b[1;33m,\u001b[0m \u001b[0mvalue\u001b[0m\u001b[1;33m)\u001b[0m\u001b[1;33m:\u001b[0m\u001b[1;33m\u001b[0m\u001b[0m\n\u001b[0;32m     46\u001b[0m         \u001b[1;32mif\u001b[0m \u001b[0mself\u001b[0m\u001b[1;33m.\u001b[0m\u001b[0m__lock\u001b[0m\u001b[1;33m:\u001b[0m\u001b[1;33m\u001b[0m\u001b[0m\n\u001b[1;32m---> 47\u001b[1;33m             \u001b[1;32mraise\u001b[0m \u001b[0mAttributeError\u001b[0m\u001b[1;33m(\u001b[0m\u001b[1;34m'set operation on locked object'\u001b[0m\u001b[1;33m)\u001b[0m\u001b[1;33m\u001b[0m\u001b[0m\n\u001b[0m\u001b[0;32m     48\u001b[0m \u001b[1;33m\u001b[0m\u001b[0m\n\u001b[0;32m     49\u001b[0m         \u001b[1;32mif\u001b[0m \u001b[0misinstance\u001b[0m\u001b[1;33m(\u001b[0m\u001b[0mkey\u001b[0m\u001b[1;33m,\u001b[0m \u001b[0mint\u001b[0m\u001b[1;33m)\u001b[0m\u001b[1;33m:\u001b[0m\u001b[1;33m\u001b[0m\u001b[0m\n",
      "\u001b[1;31mAttributeError\u001b[0m: set operation on locked object"
     ]
    }
   ],
   "source": [
    "s['a'] = 3"
   ]
  },
  {
   "cell_type": "code",
   "execution_count": 55,
   "metadata": {},
   "outputs": [
    {
     "name": "stdout",
     "output_type": "stream",
     "text": [
      "Transaction failed\n"
     ]
    },
    {
     "ename": "TypeError",
     "evalue": "'NoneType' object does not support item assignment",
     "output_type": "error",
     "traceback": [
      "\u001b[1;31m---------------------------------------------------------------------------\u001b[0m",
      "\u001b[1;31mTypeError\u001b[0m                                 Traceback (most recent call last)",
      "\u001b[1;32m<ipython-input-55-27369eee4b0a>\u001b[0m in \u001b[0;36m<module>\u001b[1;34m()\u001b[0m\n\u001b[0;32m      1\u001b[0m \u001b[1;32mwith\u001b[0m \u001b[0ms\u001b[0m\u001b[1;33m.\u001b[0m\u001b[0medit\u001b[0m\u001b[1;33m(\u001b[0m\u001b[1;33m)\u001b[0m \u001b[1;32mas\u001b[0m \u001b[0mse\u001b[0m\u001b[1;33m:\u001b[0m\u001b[1;33m\u001b[0m\u001b[0m\n\u001b[1;32m----> 2\u001b[1;33m     \u001b[0mse\u001b[0m\u001b[1;33m[\u001b[0m\u001b[1;34m'a'\u001b[0m\u001b[1;33m]\u001b[0m \u001b[1;33m=\u001b[0m \u001b[1;36m3\u001b[0m\u001b[1;33m\u001b[0m\u001b[0m\n\u001b[0m\u001b[0;32m      3\u001b[0m     \u001b[1;32mraise\u001b[0m \u001b[0mException\u001b[0m\u001b[1;33m\u001b[0m\u001b[0m\n",
      "\u001b[1;31mTypeError\u001b[0m: 'NoneType' object does not support item assignment"
     ]
    }
   ],
   "source": [
    "with s.edit() as se:\n",
    "    se['a'] = 3\n",
    "    raise Exception"
   ]
  },
  {
   "cell_type": "code",
   "execution_count": 56,
   "metadata": {},
   "outputs": [
    {
     "data": {
      "text/plain": [
       "2"
      ]
     },
     "execution_count": 56,
     "metadata": {},
     "output_type": "execute_result"
    }
   ],
   "source": [
    "s['a']"
   ]
  },
  {
   "cell_type": "code",
   "execution_count": 57,
   "metadata": {
    "collapsed": true
   },
   "outputs": [],
   "source": [
    "with s.edit() as se:\n",
    "    s['a'] = 3"
   ]
  },
  {
   "cell_type": "code",
   "execution_count": 58,
   "metadata": {},
   "outputs": [
    {
     "data": {
      "text/plain": [
       "3"
      ]
     },
     "execution_count": 58,
     "metadata": {},
     "output_type": "execute_result"
    }
   ],
   "source": [
    "s['a']"
   ]
  },
  {
   "cell_type": "markdown",
   "metadata": {},
   "source": [
    "## Phone numbers (0.3)\n",
    "Напишите регулярное выражение для распознавания телефонных номеров и протестируйте себя. Номера, которые должны распознаваться:\n",
    "* 3-22-46\n",
    "* +71239513749\n",
    "* 71239513749\n",
    "* 1239513749\n",
    "* +7(123)-951-37-49\n",
    "* +7(123)9513749\n",
    "* +7-123-9513749\n",
    "* +7-123-951-37-49\n",
    "\n",
    "* 7(123)-951-37-49\n",
    "* 7(123)9513749\n",
    "* 7-123-9513749\n",
    "* 7-123-951-37-49\n",
    "\n",
    "* (123)-951-37-49\n",
    "* (123)9513749\n",
    "* 123-9513749\n",
    "* 123-951-37-49"
   ]
  },
  {
   "cell_type": "code",
   "execution_count": 8,
   "metadata": {
    "collapsed": true
   },
   "outputs": [],
   "source": [
    "import re\n",
    "\n",
    "pattern = re.compile(r'(3-22-46)|(((\\+?7-123-)|((\\+?7)?((\\(123\\))|(123))))-?951((-37-)|(37))49)')"
   ]
  },
  {
   "cell_type": "code",
   "execution_count": 9,
   "metadata": {
    "collapsed": true
   },
   "outputs": [],
   "source": [
    "a = [\n",
    "    '(123)-951-37-49', \n",
    "    '+7(123)-951-37-49', \n",
    "    '+7-123-951-37-49', \n",
    "    '123-951-37-49', \n",
    "    '7(123)-951-37-49', \n",
    "    '7-123-951-37-49', \n",
    "    '(123)9513749', \n",
    "    '+7(123)9513749', \n",
    "    '+7-123-9513749', \n",
    "    '+71239513749', \n",
    "    '123-9513749', \n",
    "    '1239513749', \n",
    "    '7(123)9513749', \n",
    "    '7-123-9513749', \n",
    "    '71239513749', \n",
    "    '3-22-46'\n",
    "]"
   ]
  },
  {
   "cell_type": "code",
   "execution_count": 10,
   "metadata": {},
   "outputs": [
    {
     "name": "stdout",
     "output_type": "stream",
     "text": [
      "<_sre.SRE_Match object; span=(0, 15), match='(123)-951-37-49'>\n",
      "<_sre.SRE_Match object; span=(0, 17), match='+7(123)-951-37-49'>\n",
      "<_sre.SRE_Match object; span=(0, 16), match='+7-123-951-37-49'>\n",
      "<_sre.SRE_Match object; span=(0, 13), match='123-951-37-49'>\n",
      "<_sre.SRE_Match object; span=(0, 16), match='7(123)-951-37-49'>\n",
      "<_sre.SRE_Match object; span=(0, 15), match='7-123-951-37-49'>\n",
      "<_sre.SRE_Match object; span=(0, 12), match='(123)9513749'>\n",
      "<_sre.SRE_Match object; span=(0, 14), match='+7(123)9513749'>\n",
      "<_sre.SRE_Match object; span=(0, 14), match='+7-123-9513749'>\n",
      "<_sre.SRE_Match object; span=(0, 12), match='+71239513749'>\n",
      "<_sre.SRE_Match object; span=(0, 11), match='123-9513749'>\n",
      "<_sre.SRE_Match object; span=(0, 10), match='1239513749'>\n",
      "<_sre.SRE_Match object; span=(0, 13), match='7(123)9513749'>\n",
      "<_sre.SRE_Match object; span=(0, 13), match='7-123-9513749'>\n",
      "<_sre.SRE_Match object; span=(0, 11), match='71239513749'>\n",
      "<_sre.SRE_Match object; span=(0, 7), match='3-22-46'>\n"
     ]
    }
   ],
   "source": [
    "for i in a:\n",
    "    print(pattern.fullmatch(i))"
   ]
  },
  {
   "cell_type": "markdown",
   "metadata": {},
   "source": [
    "Как видим, наши номера распознаются."
   ]
  },
  {
   "cell_type": "code",
   "execution_count": 24,
   "metadata": {
    "collapsed": true
   },
   "outputs": [],
   "source": [
    "s = 'askhfdjvk ae ui2qy38 nk+7(123)-951-37-49dsjkhewub dsjui eiu71239513749 ds3-22-463-2389 +7(800)555-35-35dslkjjk'"
   ]
  },
  {
   "cell_type": "code",
   "execution_count": 25,
   "metadata": {},
   "outputs": [
    {
     "name": "stdout",
     "output_type": "stream",
     "text": [
      "Occurence of +7(123)-951-37-49 from 23 to 40 position\n",
      "Occurence of 71239513749 from 59 to 70 position\n",
      "Occurence of 3-22-46 from 73 to 80 position\n"
     ]
    }
   ],
   "source": [
    "offset = 0\n",
    "while pattern.search(s) is not None:\n",
    "    occurence = pattern.search(s)\n",
    "    b, e = occurence.span()\n",
    "    print('Occurence of {} from {} to {} position'.format(s[b: e], b + offset, e + offset))\n",
    "    s = s[e:]\n",
    "    offset += e"
   ]
  },
  {
   "cell_type": "code",
   "execution_count": null,
   "metadata": {
    "collapsed": true
   },
   "outputs": [],
   "source": []
  }
 ],
 "metadata": {
  "kernelspec": {
   "display_name": "Python 3",
   "language": "python",
   "name": "python3"
  },
  "language_info": {
   "codemirror_mode": {
    "name": "ipython",
    "version": 3
   },
   "file_extension": ".py",
   "mimetype": "text/x-python",
   "name": "python",
   "nbconvert_exporter": "python",
   "pygments_lexer": "ipython3",
   "version": "3.6.1"
  }
 },
 "nbformat": 4,
 "nbformat_minor": 2
}
