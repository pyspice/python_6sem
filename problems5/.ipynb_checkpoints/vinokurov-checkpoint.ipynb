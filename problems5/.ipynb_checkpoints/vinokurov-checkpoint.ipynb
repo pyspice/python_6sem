{
 "cells": [
  {
   "cell_type": "markdown",
   "metadata": {},
   "source": [
    "# Задание 5"
   ]
  },
  {
   "cell_type": "markdown",
   "metadata": {},
   "source": [
    "## 1. ContextTimer(0.3 балла)\n",
    "Напишите менеджер контекста, который позволит засекать время выполнения блока кода с помощью конструкции with и выводить это время на экран по выходу из блока. Пример использования:\n",
    "\n",
    "<code>\n",
    "with Timer ():\n",
    "    do_some_long_stuff()\n",
    "</code>\n",
    "\n",
    "Рекомендации: используйте стандартную библиотеку для работы со временем.\n",
    "\n",
    "Протестируйте себя."
   ]
  },
  {
   "cell_type": "code",
   "execution_count": 1,
   "metadata": {},
   "outputs": [],
   "source": [
    "import time\n",
    "\n",
    "class Timer(object):        \n",
    "    \n",
    "    scaling = [(1e-9, 1, 's'), (1e-6, 1e9, 'ns'), (1e-3, 1e6, u'\\u03BCs'), (1, 1e3, 'ms')]\n",
    "    \n",
    "    def __enter__(self):\n",
    "        self.start = time.time()\n",
    "        \n",
    "    def __exit__(self, *args):\n",
    "        stop = time.time()\n",
    "        elapsed = stop - self.start\n",
    "        \n",
    "        if elapsed < 1:\n",
    "            for scale, mult, unit in Timer.scaling:\n",
    "                if elapsed < scale:\n",
    "                    break\n",
    "                    \n",
    "            stime = '{} {}'.format(round(elapsed * mult), unit)\n",
    "            \n",
    "        elif elapsed < 60:\n",
    "            stime = '{} s'.format(round(elapsed, 3))\n",
    "            \n",
    "        else:\n",
    "            elapsed = round(elapsed)\n",
    "            h = elapsed // 3600\n",
    "            m = elapsed % 3600\n",
    "            s = elapsed % 60\n",
    "            \n",
    "            if elapsed < 3600:\n",
    "                stime = '{} m {} s'.format(m, s)\n",
    "            else:\n",
    "                stime = '{} h {} m {} s'.format(h, m, s)\n",
    "                \n",
    "        print(stime)"
   ]
  },
  {
   "cell_type": "code",
   "execution_count": 2,
   "metadata": {},
   "outputs": [],
   "source": [
    "def fib(n):\n",
    "    if n < 3:\n",
    "        return 1\n",
    "    else:\n",
    "        return fib(n - 1) + fib(n - 2)"
   ]
  },
  {
   "cell_type": "code",
   "execution_count": 3,
   "metadata": {},
   "outputs": [
    {
     "name": "stdout",
     "output_type": "stream",
     "text": [
      "3524578\n",
      "1.061 s\n"
     ]
    }
   ],
   "source": [
    "with Timer():\n",
    "    print(fib(33))"
   ]
  },
  {
   "cell_type": "markdown",
   "metadata": {},
   "source": [
    "## 2.Transaction (0.4 балла)\n",
    "Вам необходимо написать менеджер контекстов, который позволит безопасно работать с транзакциями. Напишите класс Storage, в котором будут храниться какие-то данные в виде словаря. Эти данные должны быть закрытыми и их можно только читать через операцию []. У этого класса должен быть метод edit, который возвращает менеджер контекста, позволяющий редактировать исходный объект (опять же через []). При этом результаты редактирования записываются в исходный объект только если весь блок выполнился успешно. Пример использования:\n",
    "\n",
    "<code>\n",
    "s = Storage()\n",
    "with s.edit() as se :\n",
    "    se[\"a\"] = 1\n",
    "    may_be_an_exception_here()\n",
    "</code>\n",
    "\n",
    "Протестируйте себя."
   ]
  },
  {
   "cell_type": "code",
   "execution_count": 4,
   "metadata": {},
   "outputs": [],
   "source": [
    "class Storage(object):\n",
    "    \n",
    "    class __Lock(object):\n",
    "        \n",
    "        def __init__(self, *args, **kwargs):\n",
    "            self.__args = args\n",
    "            self.__kwargs = kwargs\n",
    "            self.__lock = True\n",
    "            self.__buffer = []\n",
    "        \n",
    "        def __enter__(self):\n",
    "            self.__lock = False\n",
    "            return self\n",
    "        \n",
    "        def __exit__(self, *args):            \n",
    "            if all(map(lambda x: x is None, args)):\n",
    "                for dest, key, value in self.__buffer:\n",
    "                    dest[key] = value\n",
    "            else:\n",
    "                print('Transaction failed')\n",
    "                \n",
    "            self.__buffer.clear()\n",
    "            self.__lock = True\n",
    "            \n",
    "        def __getitem__(self, key):\n",
    "            if isinstance(key, int):\n",
    "                return self.__args[key]\n",
    "            elif isinstance(key, str):\n",
    "                return self.__kwargs[key]\n",
    "            else:\n",
    "                raise TypeError('data type for keyword not understood')\n",
    "        \n",
    "        def __setitem__(self, key, value):\n",
    "            if self.__lock:\n",
    "                raise AttributeError('set operation on locked object')\n",
    "                \n",
    "            if isinstance(key, int):\n",
    "                if not (0 <= key < len(self.__args)):\n",
    "                    raise IndexError('list index out of range')\n",
    "                self.__buffer.append((self.__args, key, value))\n",
    "                \n",
    "            elif isinstance(key, str):\n",
    "                self.__buffer.append((self.__kwargs, key, value))\n",
    "                \n",
    "            else:\n",
    "                raise TypeError('data type for keyword not understood')\n",
    "    \n",
    "    def __init__(self, *args, **kwargs):\n",
    "        object.__setattr__(self, '_Storage__lock', Storage.__Lock(self, *args, **kwargs))\n",
    "        \n",
    "    def __getattribute__(self, key):\n",
    "        if key not in {'edit', '__class__'}:\n",
    "            raise TypeError('Storage object  doesn\\'t support attribute getting')\n",
    "        return object.__getattribute__(self, 'edit')\n",
    "        \n",
    "    def __setattr__(self, key, value):\n",
    "        raise TypeError('Storage object doesn\\'t support attribute setting')\n",
    "        \n",
    "    def __getitem__(self, key):\n",
    "        return object.__getattribute__(self, '_Storage__lock')[key]\n",
    "    \n",
    "    def edit(self):\n",
    "        return object.__getattribute__(self, '_Storage__lock')"
   ]
  },
  {
   "cell_type": "code",
   "execution_count": 5,
   "metadata": {},
   "outputs": [
    {
     "name": "stdout",
     "output_type": "stream",
     "text": [
      "Transaction failed\n"
     ]
    },
    {
     "ename": "TypeError",
     "evalue": "'Storage' object does not support item assignment",
     "output_type": "error",
     "traceback": [
      "\u001b[1;31m---------------------------------------------------------------------------\u001b[0m",
      "\u001b[1;31mTypeError\u001b[0m                                 Traceback (most recent call last)",
      "\u001b[1;32m<ipython-input-5-66ecf99ff63b>\u001b[0m in \u001b[0;36m<module>\u001b[1;34m()\u001b[0m\n\u001b[0;32m      2\u001b[0m \u001b[1;33m\u001b[0m\u001b[0m\n\u001b[0;32m      3\u001b[0m \u001b[1;32mwith\u001b[0m \u001b[0ms\u001b[0m\u001b[1;33m.\u001b[0m\u001b[0medit\u001b[0m\u001b[1;33m(\u001b[0m\u001b[1;33m)\u001b[0m \u001b[1;32mas\u001b[0m \u001b[0mse\u001b[0m\u001b[1;33m:\u001b[0m\u001b[1;33m\u001b[0m\u001b[0m\n\u001b[1;32m----> 4\u001b[1;33m     \u001b[0ms\u001b[0m\u001b[1;33m[\u001b[0m\u001b[1;34m\"a\"\u001b[0m\u001b[1;33m]\u001b[0m \u001b[1;33m=\u001b[0m \u001b[1;36m1\u001b[0m\u001b[1;33m\u001b[0m\u001b[0m\n\u001b[0m\u001b[0;32m      5\u001b[0m \u001b[1;32mtry\u001b[0m\u001b[1;33m:\u001b[0m\u001b[1;33m\u001b[0m\u001b[0m\n\u001b[0;32m      6\u001b[0m     \u001b[1;32mwith\u001b[0m \u001b[0ms\u001b[0m\u001b[1;33m.\u001b[0m\u001b[0medit\u001b[0m\u001b[1;33m(\u001b[0m\u001b[1;33m)\u001b[0m \u001b[1;32mas\u001b[0m \u001b[0mse\u001b[0m\u001b[1;33m:\u001b[0m\u001b[1;33m\u001b[0m\u001b[0m\n",
      "\u001b[1;31mTypeError\u001b[0m: 'Storage' object does not support item assignment"
     ]
    }
   ],
   "source": [
    "s = Storage(a=2, b=1)\n",
    "\n",
    "with s.edit() as se:\n",
    "    s[\"a\"] = 1\n",
    "try:\n",
    "    with s.edit() as se:\n",
    "        s[\"b\"] = 3\n",
    "        raise Exception()\n",
    "except:\n",
    "    pass\n",
    "\n",
    "print(s[\"a\"]) # a=2 это правильно\n",
    "print(s[\"b\"]) # b=3 неверно!"
   ]
  },
  {
   "cell_type": "code",
   "execution_count": null,
   "metadata": {},
   "outputs": [],
   "source": [
    "s = Storage(a=2)"
   ]
  },
  {
   "cell_type": "code",
   "execution_count": null,
   "metadata": {},
   "outputs": [],
   "source": [
    "print(s['a'])"
   ]
  },
  {
   "cell_type": "code",
   "execution_count": 6,
   "metadata": {},
   "outputs": [
    {
     "ename": "TypeError",
     "evalue": "'Storage' object does not support item assignment",
     "output_type": "error",
     "traceback": [
      "\u001b[1;31m---------------------------------------------------------------------------\u001b[0m",
      "\u001b[1;31mTypeError\u001b[0m                                 Traceback (most recent call last)",
      "\u001b[1;32m<ipython-input-6-aa76ec1db34d>\u001b[0m in \u001b[0;36m<module>\u001b[1;34m()\u001b[0m\n\u001b[1;32m----> 1\u001b[1;33m \u001b[0ms\u001b[0m\u001b[1;33m[\u001b[0m\u001b[1;34m'a'\u001b[0m\u001b[1;33m]\u001b[0m \u001b[1;33m=\u001b[0m \u001b[1;36m3\u001b[0m\u001b[1;33m\u001b[0m\u001b[0m\n\u001b[0m",
      "\u001b[1;31mTypeError\u001b[0m: 'Storage' object does not support item assignment"
     ]
    }
   ],
   "source": [
    "s['a'] = 3"
   ]
  },
  {
   "cell_type": "code",
   "execution_count": 7,
   "metadata": {},
   "outputs": [
    {
     "name": "stdout",
     "output_type": "stream",
     "text": [
      "Transaction failed\n"
     ]
    },
    {
     "ename": "Exception",
     "evalue": "",
     "output_type": "error",
     "traceback": [
      "\u001b[1;31m---------------------------------------------------------------------------\u001b[0m",
      "\u001b[1;31mException\u001b[0m                                 Traceback (most recent call last)",
      "\u001b[1;32m<ipython-input-7-61d62a26c516>\u001b[0m in \u001b[0;36m<module>\u001b[1;34m()\u001b[0m\n\u001b[0;32m      1\u001b[0m \u001b[1;32mwith\u001b[0m \u001b[0ms\u001b[0m\u001b[1;33m.\u001b[0m\u001b[0medit\u001b[0m\u001b[1;33m(\u001b[0m\u001b[1;33m)\u001b[0m \u001b[1;32mas\u001b[0m \u001b[0mse\u001b[0m\u001b[1;33m:\u001b[0m\u001b[1;33m\u001b[0m\u001b[0m\n\u001b[0;32m      2\u001b[0m     \u001b[0mse\u001b[0m\u001b[1;33m[\u001b[0m\u001b[1;34m'a'\u001b[0m\u001b[1;33m]\u001b[0m \u001b[1;33m=\u001b[0m \u001b[1;36m3\u001b[0m\u001b[1;33m\u001b[0m\u001b[0m\n\u001b[1;32m----> 3\u001b[1;33m     \u001b[1;32mraise\u001b[0m \u001b[0mException\u001b[0m\u001b[1;33m\u001b[0m\u001b[0m\n\u001b[0m",
      "\u001b[1;31mException\u001b[0m: "
     ]
    }
   ],
   "source": [
    "with s.edit() as se:\n",
    "    se['a'] = 3\n",
    "    raise Exception"
   ]
  },
  {
   "cell_type": "code",
   "execution_count": 8,
   "metadata": {},
   "outputs": [
    {
     "data": {
      "text/plain": [
       "2"
      ]
     },
     "execution_count": 8,
     "metadata": {},
     "output_type": "execute_result"
    }
   ],
   "source": [
    "s['a']"
   ]
  },
  {
   "cell_type": "code",
   "execution_count": 9,
   "metadata": {},
   "outputs": [
    {
     "name": "stdout",
     "output_type": "stream",
     "text": [
      "Transaction failed\n"
     ]
    },
    {
     "ename": "TypeError",
     "evalue": "'Storage' object does not support item assignment",
     "output_type": "error",
     "traceback": [
      "\u001b[1;31m---------------------------------------------------------------------------\u001b[0m",
      "\u001b[1;31mTypeError\u001b[0m                                 Traceback (most recent call last)",
      "\u001b[1;32m<ipython-input-9-92974959a864>\u001b[0m in \u001b[0;36m<module>\u001b[1;34m()\u001b[0m\n\u001b[0;32m      1\u001b[0m \u001b[1;32mwith\u001b[0m \u001b[0ms\u001b[0m\u001b[1;33m.\u001b[0m\u001b[0medit\u001b[0m\u001b[1;33m(\u001b[0m\u001b[1;33m)\u001b[0m \u001b[1;32mas\u001b[0m \u001b[0mse\u001b[0m\u001b[1;33m:\u001b[0m\u001b[1;33m\u001b[0m\u001b[0m\n\u001b[0;32m      2\u001b[0m     \u001b[0mse\u001b[0m\u001b[1;33m[\u001b[0m\u001b[1;34m'a'\u001b[0m\u001b[1;33m]\u001b[0m \u001b[1;33m=\u001b[0m \u001b[1;36m3\u001b[0m\u001b[1;33m\u001b[0m\u001b[0m\n\u001b[1;32m----> 3\u001b[1;33m     \u001b[0ms\u001b[0m\u001b[1;33m[\u001b[0m\u001b[1;34m'a'\u001b[0m\u001b[1;33m]\u001b[0m \u001b[1;33m=\u001b[0m \u001b[1;36m4\u001b[0m\u001b[1;33m\u001b[0m\u001b[0m\n\u001b[0m",
      "\u001b[1;31mTypeError\u001b[0m: 'Storage' object does not support item assignment"
     ]
    }
   ],
   "source": [
    "with s.edit() as se:\n",
    "    se['a'] = 3\n",
    "    s['a'] = 4"
   ]
  },
  {
   "cell_type": "code",
   "execution_count": 10,
   "metadata": {},
   "outputs": [
    {
     "data": {
      "text/plain": [
       "2"
      ]
     },
     "execution_count": 10,
     "metadata": {},
     "output_type": "execute_result"
    }
   ],
   "source": [
    "s['a']"
   ]
  },
  {
   "cell_type": "code",
   "execution_count": 11,
   "metadata": {},
   "outputs": [],
   "source": [
    "with s.edit() as se:\n",
    "    se['a'] = 3"
   ]
  },
  {
   "cell_type": "code",
   "execution_count": 12,
   "metadata": {},
   "outputs": [
    {
     "data": {
      "text/plain": [
       "3"
      ]
     },
     "execution_count": 12,
     "metadata": {},
     "output_type": "execute_result"
    }
   ],
   "source": [
    "s['a']"
   ]
  },
  {
   "cell_type": "code",
   "execution_count": 13,
   "metadata": {},
   "outputs": [
    {
     "ename": "TypeError",
     "evalue": "Storage object doesn't support attribute setting",
     "output_type": "error",
     "traceback": [
      "\u001b[1;31m---------------------------------------------------------------------------\u001b[0m",
      "\u001b[1;31mTypeError\u001b[0m                                 Traceback (most recent call last)",
      "\u001b[1;32m<ipython-input-13-ef4b5c4c42dd>\u001b[0m in \u001b[0;36m<module>\u001b[1;34m()\u001b[0m\n\u001b[1;32m----> 1\u001b[1;33m \u001b[0ms\u001b[0m\u001b[1;33m.\u001b[0m\u001b[0ma\u001b[0m \u001b[1;33m=\u001b[0m \u001b[1;36m3\u001b[0m\u001b[1;33m\u001b[0m\u001b[0m\n\u001b[0m",
      "\u001b[1;32m<ipython-input-4-bd57fb8490d5>\u001b[0m in \u001b[0;36m__setattr__\u001b[1;34m(self, key, value)\u001b[0m\n\u001b[0;32m     55\u001b[0m \u001b[1;33m\u001b[0m\u001b[0m\n\u001b[0;32m     56\u001b[0m     \u001b[1;32mdef\u001b[0m \u001b[0m__setattr__\u001b[0m\u001b[1;33m(\u001b[0m\u001b[0mself\u001b[0m\u001b[1;33m,\u001b[0m \u001b[0mkey\u001b[0m\u001b[1;33m,\u001b[0m \u001b[0mvalue\u001b[0m\u001b[1;33m)\u001b[0m\u001b[1;33m:\u001b[0m\u001b[1;33m\u001b[0m\u001b[0m\n\u001b[1;32m---> 57\u001b[1;33m         \u001b[1;32mraise\u001b[0m \u001b[0mTypeError\u001b[0m\u001b[1;33m(\u001b[0m\u001b[1;34m'Storage object doesn\\'t support attribute setting'\u001b[0m\u001b[1;33m)\u001b[0m\u001b[1;33m\u001b[0m\u001b[0m\n\u001b[0m\u001b[0;32m     58\u001b[0m \u001b[1;33m\u001b[0m\u001b[0m\n\u001b[0;32m     59\u001b[0m     \u001b[1;32mdef\u001b[0m \u001b[0m__getitem__\u001b[0m\u001b[1;33m(\u001b[0m\u001b[0mself\u001b[0m\u001b[1;33m,\u001b[0m \u001b[0mkey\u001b[0m\u001b[1;33m)\u001b[0m\u001b[1;33m:\u001b[0m\u001b[1;33m\u001b[0m\u001b[0m\n",
      "\u001b[1;31mTypeError\u001b[0m: Storage object doesn't support attribute setting"
     ]
    }
   ],
   "source": [
    "s.a = 3"
   ]
  },
  {
   "cell_type": "markdown",
   "metadata": {},
   "source": [
    "## Phone numbers (0.3)\n",
    "Напишите регулярное выражение для распознавания телефонных номеров и протестируйте себя. Номера, которые должны распознаваться:\n",
    "* 3-22-46\n",
    "* +71239513749\n",
    "* 71239513749\n",
    "* 1239513749\n",
    "* +7(123)-951-37-49\n",
    "* +7(123)9513749\n",
    "* +7-123-9513749\n",
    "* +7-123-951-37-49\n",
    "\n",
    "* 7(123)-951-37-49\n",
    "* 7(123)9513749\n",
    "* 7-123-9513749\n",
    "* 7-123-951-37-49\n",
    "\n",
    "* (123)-951-37-49\n",
    "* (123)9513749\n",
    "* 123-9513749\n",
    "* 123-951-37-49"
   ]
  },
  {
   "cell_type": "code",
   "execution_count": 14,
   "metadata": {},
   "outputs": [],
   "source": [
    "import re\n",
    "\n",
    "pattern = re.compile(r'(3-22-46)|(((\\+?7-123-)|((\\+?7)?((\\(123\\))|(123))))-?951((-37-)|(37))49)')"
   ]
  },
  {
   "cell_type": "code",
   "execution_count": 15,
   "metadata": {},
   "outputs": [],
   "source": [
    "a = [\n",
    "    '(123)-951-37-49', \n",
    "    '+7(123)-951-37-49', \n",
    "    '+7-123-951-37-49', \n",
    "    '123-951-37-49', \n",
    "    '7(123)-951-37-49', \n",
    "    '7-123-951-37-49', \n",
    "    '(123)9513749', \n",
    "    '+7(123)9513749', \n",
    "    '+7-123-9513749', \n",
    "    '+71239513749', \n",
    "    '123-9513749', \n",
    "    '1239513749', \n",
    "    '7(123)9513749', \n",
    "    '7-123-9513749', \n",
    "    '71239513749', \n",
    "    '3-22-46'\n",
    "]"
   ]
  },
  {
   "cell_type": "code",
   "execution_count": 16,
   "metadata": {},
   "outputs": [
    {
     "name": "stdout",
     "output_type": "stream",
     "text": [
      "<_sre.SRE_Match object; span=(0, 15), match='(123)-951-37-49'>\n",
      "<_sre.SRE_Match object; span=(0, 17), match='+7(123)-951-37-49'>\n",
      "<_sre.SRE_Match object; span=(0, 16), match='+7-123-951-37-49'>\n",
      "<_sre.SRE_Match object; span=(0, 13), match='123-951-37-49'>\n",
      "<_sre.SRE_Match object; span=(0, 16), match='7(123)-951-37-49'>\n",
      "<_sre.SRE_Match object; span=(0, 15), match='7-123-951-37-49'>\n",
      "<_sre.SRE_Match object; span=(0, 12), match='(123)9513749'>\n",
      "<_sre.SRE_Match object; span=(0, 14), match='+7(123)9513749'>\n",
      "<_sre.SRE_Match object; span=(0, 14), match='+7-123-9513749'>\n",
      "<_sre.SRE_Match object; span=(0, 12), match='+71239513749'>\n",
      "<_sre.SRE_Match object; span=(0, 11), match='123-9513749'>\n",
      "<_sre.SRE_Match object; span=(0, 10), match='1239513749'>\n",
      "<_sre.SRE_Match object; span=(0, 13), match='7(123)9513749'>\n",
      "<_sre.SRE_Match object; span=(0, 13), match='7-123-9513749'>\n",
      "<_sre.SRE_Match object; span=(0, 11), match='71239513749'>\n",
      "<_sre.SRE_Match object; span=(0, 7), match='3-22-46'>\n"
     ]
    }
   ],
   "source": [
    "for i in a:\n",
    "    print(pattern.fullmatch(i))"
   ]
  },
  {
   "cell_type": "markdown",
   "metadata": {},
   "source": [
    "Как видим, наши номера распознаются."
   ]
  },
  {
   "cell_type": "code",
   "execution_count": 17,
   "metadata": {},
   "outputs": [
    {
     "data": {
      "text/plain": [
       "<_sre.SRE_Match object; span=(0, 16), match='+7(123)951-37-49'>"
      ]
     },
     "execution_count": 17,
     "metadata": {},
     "output_type": "execute_result"
    }
   ],
   "source": [
    "pattern.fullmatch('+7(123)951-37-49')"
   ]
  },
  {
   "cell_type": "markdown",
   "metadata": {},
   "source": [
    "Подобные номера распознаются на всякий случай (так тоже пишут)."
   ]
  },
  {
   "cell_type": "code",
   "execution_count": 18,
   "metadata": {},
   "outputs": [],
   "source": [
    "line = 'ask+hfdjvk ae ui2qy38 nk+7(123)-951-37-49dsjkhewub dsjui eiu71239513749 ds3-22-463-2389 +7(800)555-35-35dslkjjk'"
   ]
  },
  {
   "cell_type": "code",
   "execution_count": 19,
   "metadata": {},
   "outputs": [
    {
     "name": "stdout",
     "output_type": "stream",
     "text": [
      "Occurence of +7(123)-951-37-49 from 24 to 41 position\n",
      "Occurence of 71239513749 from 60 to 71 position\n",
      "Occurence of 3-22-46 from 74 to 81 position\n"
     ]
    }
   ],
   "source": [
    "offset = 0\n",
    "while pattern.search(line) is not None:\n",
    "    occurence = pattern.search(line)\n",
    "    b, e = occurence.span()\n",
    "    print('Occurence of {} from {} to {} position'.format(line[b: e], b + offset, e + offset))\n",
    "    line = line[e:]\n",
    "    offset += e"
   ]
  },
  {
   "cell_type": "markdown",
   "metadata": {
    "collapsed": true
   },
   "source": [
    "Можно искать совпадения по нашим номерам в тексте как описано выше."
   ]
  }
 ],
 "metadata": {
  "kernelspec": {
   "display_name": "Python 3",
   "language": "python",
   "name": "python3"
  },
  "language_info": {
   "codemirror_mode": {
    "name": "ipython",
    "version": 3
   },
   "file_extension": ".py",
   "mimetype": "text/x-python",
   "name": "python",
   "nbconvert_exporter": "python",
   "pygments_lexer": "ipython3",
   "version": "3.6.5"
  }
 },
 "nbformat": 4,
 "nbformat_minor": 2
}
