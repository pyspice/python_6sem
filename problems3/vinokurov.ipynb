{
 "cells": [
  {
   "cell_type": "markdown",
   "metadata": {},
   "source": [
    "# Задание 3\n",
    "### Часть 1. Magic functions"
   ]
  },
  {
   "cell_type": "markdown",
   "metadata": {},
   "source": [
    "#### CounterGetter (0.1 балл)\n",
    "Реализуйте класс CounterGetter, который на вход принимает произвольное количество именованых аргументов и считает количество обращений к полям и методам класса во всех экземплярах."
   ]
  },
  {
   "cell_type": "code",
   "execution_count": 9,
   "metadata": {
    "collapsed": true
   },
   "outputs": [],
   "source": [
    "class CounterGetter(object):\n",
    "    \n",
    "    count = 0\n",
    "    \n",
    "    def __init__(self, **kwargs):\n",
    "        CounterGetter.count += 1\n",
    "        for key, value in kwargs.items():\n",
    "            object.__setattr__(self, key, value)\n",
    "    \n",
    "    def __setattr__(self, name, value):\n",
    "        CounterGetter.count += 1\n",
    "        object.__setattr__(self, name, value)\n",
    "    \n",
    "    def __getattribute__(self, name):\n",
    "        if name == 'count':\n",
    "            return CounterGetter.count\n",
    "        CounterGetter.count += 1\n",
    "        return object.__getattribute__(self, name)\n",
    "    \n",
    "    def __getattr__(self, name):\n",
    "        print('Field \"{}\" not found'.format(name))\n",
    "        return None\n",
    "    \n",
    "    def testmethod(self):\n",
    "        print('testmethod called')\n",
    "        \n",
    "a = CounterGetter(a=1, b=2) # count += 1"
   ]
  },
  {
   "cell_type": "code",
   "execution_count": 10,
   "metadata": {},
   "outputs": [
    {
     "data": {
      "text/plain": [
       "1"
      ]
     },
     "execution_count": 10,
     "metadata": {},
     "output_type": "execute_result"
    }
   ],
   "source": [
    "CounterGetter.count"
   ]
  },
  {
   "cell_type": "code",
   "execution_count": 11,
   "metadata": {
    "scrolled": true
   },
   "outputs": [
    {
     "name": "stdout",
     "output_type": "stream",
     "text": [
      "a.b: 2\n",
      "Field \"c\" not found\n",
      "a.c: None\n",
      "a.a: 1\n",
      "testmethod called\n",
      "\n",
      "True\n",
      "a.count: 6\n"
     ]
    }
   ],
   "source": [
    "print('a.b:', a.b) # count += 1\n",
    "print('a.c:', a.c) # count += 1\n",
    "a.d = 5 # count += 1\n",
    "print('a.a:', a.a) # count += 1\n",
    "a.testmethod() # count += 1\n",
    "\n",
    "print()\n",
    "print(CounterGetter.count == a.count)\n",
    "print('a.count:', a.count) # count == 6"
   ]
  },
  {
   "cell_type": "code",
   "execution_count": 12,
   "metadata": {
    "collapsed": true
   },
   "outputs": [],
   "source": [
    "class Test(CounterGetter):\n",
    "    pass"
   ]
  },
  {
   "cell_type": "code",
   "execution_count": 13,
   "metadata": {},
   "outputs": [
    {
     "name": "stdout",
     "output_type": "stream",
     "text": [
      "7\n",
      "Field \"c\" not found\n",
      "None\n",
      "2\n",
      "4\n",
      "11\n"
     ]
    }
   ],
   "source": [
    "test = Test(a=1, b=2) # count += 1\n",
    "print(test.count)\n",
    "print(test.c) # count += 1\n",
    "print(test.b) # count += 1\n",
    "test.d=4 # count += 1\n",
    "print(test.d) # count += 1\n",
    "print(test.count) # count == 11"
   ]
  },
  {
   "cell_type": "markdown",
   "metadata": {},
   "source": [
    "Как видим, класс получился универсальным, можем спокойно наследоваться и получать требуемый функционал."
   ]
  },
  {
   "cell_type": "markdown",
   "metadata": {},
   "source": [
    "#### Vector (0.4 балла)"
   ]
  },
  {
   "cell_type": "markdown",
   "metadata": {},
   "source": [
    "Реализуйте класс вектор, который должен обладать следующими свойствами:\n",
    "* Над экземплярами выполняются арифметические операции (+-\\*/). Операции могут выполняться как с числами, так и с векторами. Если второй операнд вектор, то верните их скалярное произведение, если число, выполните поэлементное действие.\n",
    "* Реализуйте доступ к элементам вектора по индексам:\n",
    "\n",
    "<code>vec = Vector(1, 2, 3)\n",
    "\n",
    "vec[0]</code>\n",
    "* Реализуйте умножение вектора на матрицу (Матрица задается двумерным списком).\n",
    "* Поддерживайте методы push_back, pop_back, insert.\n",
    "* Реализуйте поддержку функции len\n",
    "\n",
    "P. S. Запрещается использовать numpy и другие библиотеки по работе с векторами. Рекомендуется представлять элементы вектора как список."
   ]
  },
  {
   "cell_type": "code",
   "execution_count": 24,
   "metadata": {
    "collapsed": true
   },
   "outputs": [],
   "source": [
    "import math\n",
    "\n",
    "class Vector(object):\n",
    "    def __init__(self, *args):\n",
    "        self.__buf = list(args)\n",
    "        \n",
    "    def __repr__(self):\n",
    "        return 'Vector({})'.format(', '.join(map(str, self.__buf)))\n",
    "        \n",
    "    def __len__(self):\n",
    "        return len(self.__buf)\n",
    "    \n",
    "    def len(self):\n",
    "        return len(self.__buf)\n",
    "    \n",
    "    def __getitem__(self, index):\n",
    "        return self.__buf[index]\n",
    "    \n",
    "    def push_back(self, value):\n",
    "        self.__buf.append(value)\n",
    "        \n",
    "    def pop_back(self, value):\n",
    "        self.__buf.pop(value)\n",
    "        \n",
    "    def insert(self, index, value):\n",
    "        self.__buf.insert(index, value)\n",
    "    \n",
    "    def __add__(self, other):\n",
    "        if isinstance(other, Vector):\n",
    "            if len(self) != len(other):\n",
    "                raise ValueError('operands could not be broadcast together with shapes ({},) ({},)'.format(len(self), len(other)))\n",
    "                \n",
    "            return Vector([self[i] + other[i] for i in range(len(self))])\n",
    "        elif type(other) in {int, float, complex}:\n",
    "            return Vector([x + other for x in self.__buf])\n",
    "        else:\n",
    "            raise TypeError(\"unsupported operand type(s) for +: 'Vector' and '{}'\".format(type(other).__name__))\n",
    "    \n",
    "    def __sub__(self, other):\n",
    "        if isinstance(other, Vector):\n",
    "            if len(self) != len(other):\n",
    "                raise ValueError('operands could not be broadcast together with shapes ({},) ({},)'.format(len(self), len(other)))\n",
    "                \n",
    "            return Vector([self[i] - other[i] for i in range(len(self))])\n",
    "        elif type(other) in {int, float, complex}:\n",
    "            return Vector([x - other for x in self.__buf])\n",
    "        else:\n",
    "            raise TypeError(\"unsupported operand type(s) for -: 'Vector' and '{}'\".format(type(other).__name__))\n",
    "    \n",
    "    def __mult__(self, other):\n",
    "        if isinstance(other, Vector):\n",
    "            if len(self) != len(other):\n",
    "                raise ValueError('operands could not be broadcast together with shapes ({},) ({},)'.format(len(self), len(other)))\n",
    "                \n",
    "            return Vector([self[i] * other[i] for i in range(len(self))])\n",
    "        elif type(other) in {int, float, complex}:\n",
    "            return Vector([x * other for x in self.__buf])\n",
    "        else:\n",
    "            raise TypeError(\"unsupported operand type(s) for *: 'Vector' and '{}'\".format(type(other).__name__))\n",
    "            \n",
    "    def __div__(self, other):\n",
    "        if isinstance(other, Vector):\n",
    "            if len(self) != len(other):\n",
    "                raise ValueError('operands could not be broadcast together with shapes ({},) ({},)'.format(len(self), len(other)))\n",
    "                \n",
    "            return Vector([self[i] / other[i] for i in range(len(self))])\n",
    "        elif type(other) in {int, float, complex}:\n",
    "            return Vector([x / other for x in self.__buf])\n",
    "        else:\n",
    "            raise TypeError(\"unsupported operand type(s) for /: 'Vector' and '{}'\".format(type(other).__name__))\n",
    "            \n",
    "    def __radd__(self, other):\n",
    "        return other + self\n",
    "    \n",
    "    def __rsub__(self, other):\n",
    "        return other - self\n",
    "    \n",
    "    def __rmult__(self, other):\n",
    "        return other * self\n",
    "\n",
    "    def __rdiv__(self, other):\n",
    "        return other / self\n",
    "    \n",
    "    def matrix_mult(self, matrix):\n",
    "        # according to requirements, strictly check if matrix is a list of lists with fitting shape\n",
    "        check = isinstance(matrix, list)\n",
    "        if check:\n",
    "            if len(matrix) != len(self):\n",
    "                raise ValueError('operands could not be broadcast together with shapes ({},) ({}, *)'.format(len(self), len(matrix)))\n",
    "            for i in matrix:\n",
    "                check &= isinstance(i, list)\n",
    "                if check:\n",
    "                    for j in i:\n",
    "                        check &= type(j) in {int, float, complex}\n",
    "        \n",
    "        if not check:\n",
    "            raise ValueError('unsupported type for matrix_mult: matrix is not list of lists of numbers')\n",
    "            \n",
    "        res = []\n",
    "        for j in range(len(matrix[0])):\n",
    "            s = 0\n",
    "            for i in range(len(self)):\n",
    "                s += self[i] * matrix[i][j]\n",
    "            res.append(s)\n",
    "        \n",
    "        return Vector(*res)\n",
    "        "
   ]
  },
  {
   "cell_type": "code",
   "execution_count": 25,
   "metadata": {},
   "outputs": [
    {
     "name": "stdout",
     "output_type": "stream",
     "text": [
      "[22 28]\n",
      "Vector(22, 28)\n"
     ]
    }
   ],
   "source": [
    "a = Vector(1, 2, 3)\n",
    "b = [[1, 2], [3, 4], [5, 6]]\n",
    "\n",
    "import numpy as np\n",
    "\n",
    "c = np.array([1, 2, 3])\n",
    "d = np.array(b)\n",
    "\n",
    "print(c @ d)\n",
    "print(a.matrix_mult(b))"
   ]
  },
  {
   "cell_type": "markdown",
   "metadata": {},
   "source": [
    "#### Table (0.5 баллов)"
   ]
  },
  {
   "cell_type": "markdown",
   "metadata": {},
   "source": [
    "Реализуйте класс для работы с таблицами. Класс должен обладать следующей функциональностью:\n",
    "\n",
    "* Таблица может задаваться как двумерным списком, так и читаться из файла. Если читается из файла, то должен быть указан разделитель.\n",
    "\n",
    "* Обладать возможностью задания названия колонок (по номеру, если не задано). Если читается из файла и задан параметр наличия именованных колонок, то первая строчка файла отвечает за названия колонок.\n",
    "\n",
    "* Реализуйте доступ к колонкам по названю и по индекс:\n",
    "\n",
    "<code>t = Table()\n",
    "\n",
    "t[\"index\"]</code>\n",
    "\n",
    "* Реализуйте функции head и tail, которые показывают заданное число строк с начала и с конца соответственно.\n",
    "* Реадизуйте методы unique и count, которые выводят все уникальные элементы для таблицы или для заданного столбца:\n",
    "\n",
    "<code>\n",
    "\n",
    "t[\"sex\"].unique()\n",
    "\n",
    "t.unique()\n",
    "\n",
    "</code>"
   ]
  },
  {
   "cell_type": "code",
   "execution_count": 28,
   "metadata": {
    "collapsed": true
   },
   "outputs": [],
   "source": [
    "from collections import Counter\n",
    "\n",
    "class Table(object):\n",
    "    \n",
    "    def __init__(self, matrix=None, filename=None, sep=', ', named_cols=False):\n",
    "        if (matrix is None or not isinstance(matrix, list)) and filename is None:\n",
    "                raise TypeError('expected init matrix or table filename')\n",
    "                \n",
    "        if filename is not None:\n",
    "            with open(filename) as file:\n",
    "                a = file.readlines()\n",
    "                \n",
    "                if named_cols:\n",
    "                    self.__names = a[0].strip().split(sep=sep)\n",
    "                    a = a[1: ]\n",
    "                else:\n",
    "                    self.__names = list(range(len(matrix[0])))\n",
    "                    \n",
    "                self.__table = [j.strip().split(sep=sep) for j in a]\n",
    "        else:\n",
    "            self.__table = matrix\n",
    "            self.__names = list(range(len(matrix[0])))\n",
    "            \n",
    "    def __repr__(self):\n",
    "        if len(self) >= 10:\n",
    "            return self.head(5) + '\\n...\\n' + self.tail(5)\n",
    "        else:\n",
    "            return self.head()\n",
    "        \n",
    "    def __len__(self):\n",
    "        return len(self.__table)\n",
    "    \n",
    "    def __getitem__(self, index):\n",
    "        if not isinstance(index, int):\n",
    "            index = self.__names.index(index)\n",
    "        column = [self.__table[i][index] for i in range(len(self))]\n",
    "        return column\n",
    "    \n",
    "    def head(self, size=10):\n",
    "        s = ' '.join(map(str, self.__names)) + '\\n'\n",
    "        for i in range(min(size, len(self))):\n",
    "            s += ' '.join(map(str, self.__table[i])) + '\\n'\n",
    "            \n",
    "        return s\n",
    "    \n",
    "    def tail(self, size=10):\n",
    "        s = ' '.join(map(str, self.__names)) + '\\n'\n",
    "        for i in range(min(size, len(self)), 0, -1):\n",
    "            s += ' '.join(map(str, self.__table[-i])) + '\\n'\n",
    "        \n",
    "        return s\n",
    "    \n",
    "    def unique(self, column=None):\n",
    "        c = Counter()\n",
    "        if column is None:\n",
    "            for i in self.__table:\n",
    "                c.update(i)\n",
    "        else:\n",
    "            c.update(self[column])\n",
    "            \n",
    "        res = []\n",
    "        for key, value in c.items():\n",
    "            if value == 1:\n",
    "                res.append(key)\n",
    "                \n",
    "        return res\n",
    "    \n",
    "    def count(self, column=None):\n",
    "        c = Counter()\n",
    "        if column is None:\n",
    "            for i in self.__table:\n",
    "                c.update(i)\n",
    "        else:\n",
    "            c.update(self[column])\n",
    "        \n",
    "        return c"
   ]
  },
  {
   "cell_type": "code",
   "execution_count": 31,
   "metadata": {},
   "outputs": [
    {
     "name": "stdout",
     "output_type": "stream",
     "text": [
      "name age sex\n",
      "Gregory 52 male\n",
      "James 49 male\n",
      "Lisa 44 female\n",
      "\n",
      "['Gregory', 'James', 'Lisa']\n",
      "['52', '49', '44']\n",
      "\n",
      "name age sex\n",
      "Gregory 52 male\n",
      "James 49 male\n",
      "\n",
      "name age sex\n",
      "Lisa 44 female\n",
      "\n",
      "['Gregory', '52', 'James', '49', 'Lisa', '44', 'female']\n",
      "['female']\n",
      "\n",
      "Counter({'male': 2, 'Gregory': 1, '52': 1, 'James': 1, '49': 1, 'Lisa': 1, '44': 1, 'female': 1})\n",
      "Counter({'male': 2, 'female': 1})\n"
     ]
    }
   ],
   "source": [
    "t = Table(filename='test.csv', named_cols=True)\n",
    "print(t)\n",
    "\n",
    "print(t['name'])\n",
    "print(t[1])\n",
    "print()\n",
    "\n",
    "print(t.head(2))\n",
    "print(t.tail(1))\n",
    "\n",
    "print(t.unique())\n",
    "print(t.unique(column='sex'))\n",
    "print()\n",
    "\n",
    "print(t.count())\n",
    "print(t.count(column='sex'))"
   ]
  }
 ],
 "metadata": {
  "kernelspec": {
   "display_name": "Python 3",
   "language": "python",
   "name": "python3"
  },
  "language_info": {
   "codemirror_mode": {
    "name": "ipython",
    "version": 3
   },
   "file_extension": ".py",
   "mimetype": "text/x-python",
   "name": "python",
   "nbconvert_exporter": "python",
   "pygments_lexer": "ipython3",
   "version": "3.6.5"
  }
 },
 "nbformat": 4,
 "nbformat_minor": 2
}
